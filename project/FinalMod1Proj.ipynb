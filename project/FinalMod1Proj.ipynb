{
 "cells": [
  {
   "cell_type": "markdown",
   "metadata": {},
   "source": [
    "# What Kind of Studio Should Microsoft Be? \n",
    "Steven and Allison\n",
    "\n",
    "Module 1 Project"
   ]
  },
  {
   "cell_type": "markdown",
   "metadata": {},
   "source": [
    "### Table of Contents###\n",
    "\n",
    "1.  <a href='TheProblemStatement'>The Problem Statement </a>\n",
    "2.  <a href ='methodology'>Methodology and Approach</a>\n",
    "3.  <a href='sources'>Data Sources</a>\n",
    "4.  <a href ='clean'>Data Cleaning</a>\n",
    "5.  <a href = 'clean2'>Data Cleaning Continued</a>\n",
    "6.  <a href = 'merge'>Merging the Datasets</a>\n",
    "7.  <a href='studio'>Categorizing Studio Size</a>\n",
    "8.  <a href='findings'>Key Findings</a>\n",
    "9.  <a href='conclusions'>Conclusions and Recommendations</a>\n",
    "10. <a href='next'>Next Steps</a>"
   ]
  },
  {
   "cell_type": "markdown",
   "metadata": {},
   "source": [
    "<a id='TheProblemStatement'></a>\n",
    "## The Problem Statement###\n",
    "\n",
    "**Which Types of Studios are Associated with Successful Films?**"
   ]
  },
  {
   "cell_type": "markdown",
   "metadata": {},
   "source": [
    "Our main aim for this analysis was to inform Microsoft's approach to the movie industry. As a first step, we sought to understand which types of studios were associated with successful films. We also explored the production budgets and worldwide gross revenue associated with these films. "
   ]
  },
  {
   "cell_type": "markdown",
   "metadata": {},
   "source": [
    "<a id ='methdology'></a>\n",
    "## Methodology and Approach"
   ]
  },
  {
   "cell_type": "markdown",
   "metadata": {},
   "source": [
    "We define \"successful\" studios using the metric of return on investment (ROI). We calculate ROI as gross sales less production budget. ROI is a well-established KPI that shows the return per dollar invested. We selected ROI because it is a monetary measure--which captures the profit-seeking motive behind Microsoft's entry into the movie industry--and also because ROI accounts for the effects of inflation."
   ]
  },
  {
   "cell_type": "markdown",
   "metadata": {},
   "source": [
    "Our unit of analysis is studio size. We selected, cleaned and merged datasets which had three variables of interest: film production budgets, film worldwide gross revenue, and studio name. We created three new variables: ROI, net revenue, and studio_size--which we categorized into three groups based on total production budget for films produced over the 2010 to 2018 period). "
   ]
  },
  {
   "cell_type": "markdown",
   "metadata": {},
   "source": [
    "The key questions we asked in our analysis were:\n",
    " - How did differently sized movie studios perform over the time period? \n",
    " - Which budget sizes result in the highest impact per dollar?\n",
    " - Did certain-sized studios produce higher-revenue films? "
   ]
  },
  {
   "cell_type": "code",
   "execution_count": null,
   "metadata": {},
   "outputs": [],
   "source": []
  },
  {
   "cell_type": "markdown",
   "metadata": {},
   "source": [
    "<a id='sources'></a>\n",
    "## Data Sources"
   ]
  },
  {
   "cell_type": "markdown",
   "metadata": {},
   "source": [
    "Our **first** data source is TheNumbers.com. The dataset contains information on release dates, domestic and worldwide gross income, and production budgets. This dataset has information on nearly 6,000 movies spanning a time period from 1915 to not-yet-released films scheduled for 2020. \n",
    "\n",
    "Our **second** data source is Box Office Mojo. The dataset contains information on year of release, domestic and foreign sales, and studios. This dataset contains information on over 3,000 movies released from 2010 through 2018. \n",
    "\n",
    "We used the information in the first dataset to calculate two metrics: ROI and net revenue. We used information on studios from the second dataset. We then calculated 'studio_size' based on production budgets for studios in the dataset. \n"
   ]
  },
  {
   "cell_type": "markdown",
   "metadata": {},
   "source": [
    "##### Import Libraries"
   ]
  },
  {
   "cell_type": "code",
   "execution_count": 171,
   "metadata": {},
   "outputs": [],
   "source": [
    "import pandas as pd\n",
    "import matplotlib.pyplot as plt\n",
    "import numpy as np\n",
    "import seaborn as sns"
   ]
  },
  {
   "cell_type": "markdown",
   "metadata": {},
   "source": [
    "<a id='first'></a>\n",
    "#### First Dataset ####"
   ]
  },
  {
   "cell_type": "code",
   "execution_count": 172,
   "metadata": {},
   "outputs": [],
   "source": [
    "movies_df = pd.read_csv('./data/tn.movie_budgets.csv.gz') #read in datafile"
   ]
  },
  {
   "cell_type": "code",
   "execution_count": 173,
   "metadata": {},
   "outputs": [
    {
     "data": {
      "text/html": [
       "<div>\n",
       "<style scoped>\n",
       "    .dataframe tbody tr th:only-of-type {\n",
       "        vertical-align: middle;\n",
       "    }\n",
       "\n",
       "    .dataframe tbody tr th {\n",
       "        vertical-align: top;\n",
       "    }\n",
       "\n",
       "    .dataframe thead th {\n",
       "        text-align: right;\n",
       "    }\n",
       "</style>\n",
       "<table border=\"1\" class=\"dataframe\">\n",
       "  <thead>\n",
       "    <tr style=\"text-align: right;\">\n",
       "      <th></th>\n",
       "      <th>id</th>\n",
       "      <th>release_date</th>\n",
       "      <th>movie</th>\n",
       "      <th>production_budget</th>\n",
       "      <th>domestic_gross</th>\n",
       "      <th>worldwide_gross</th>\n",
       "    </tr>\n",
       "  </thead>\n",
       "  <tbody>\n",
       "    <tr>\n",
       "      <th>0</th>\n",
       "      <td>1</td>\n",
       "      <td>Dec 18, 2009</td>\n",
       "      <td>Avatar</td>\n",
       "      <td>$425,000,000</td>\n",
       "      <td>$760,507,625</td>\n",
       "      <td>$2,776,345,279</td>\n",
       "    </tr>\n",
       "    <tr>\n",
       "      <th>1</th>\n",
       "      <td>2</td>\n",
       "      <td>May 20, 2011</td>\n",
       "      <td>Pirates of the Caribbean: On Stranger Tides</td>\n",
       "      <td>$410,600,000</td>\n",
       "      <td>$241,063,875</td>\n",
       "      <td>$1,045,663,875</td>\n",
       "    </tr>\n",
       "    <tr>\n",
       "      <th>2</th>\n",
       "      <td>3</td>\n",
       "      <td>Jun 7, 2019</td>\n",
       "      <td>Dark Phoenix</td>\n",
       "      <td>$350,000,000</td>\n",
       "      <td>$42,762,350</td>\n",
       "      <td>$149,762,350</td>\n",
       "    </tr>\n",
       "    <tr>\n",
       "      <th>3</th>\n",
       "      <td>4</td>\n",
       "      <td>May 1, 2015</td>\n",
       "      <td>Avengers: Age of Ultron</td>\n",
       "      <td>$330,600,000</td>\n",
       "      <td>$459,005,868</td>\n",
       "      <td>$1,403,013,963</td>\n",
       "    </tr>\n",
       "    <tr>\n",
       "      <th>4</th>\n",
       "      <td>5</td>\n",
       "      <td>Dec 15, 2017</td>\n",
       "      <td>Star Wars Ep. VIII: The Last Jedi</td>\n",
       "      <td>$317,000,000</td>\n",
       "      <td>$620,181,382</td>\n",
       "      <td>$1,316,721,747</td>\n",
       "    </tr>\n",
       "  </tbody>\n",
       "</table>\n",
       "</div>"
      ],
      "text/plain": [
       "   id  release_date                                        movie  \\\n",
       "0   1  Dec 18, 2009                                       Avatar   \n",
       "1   2  May 20, 2011  Pirates of the Caribbean: On Stranger Tides   \n",
       "2   3   Jun 7, 2019                                 Dark Phoenix   \n",
       "3   4   May 1, 2015                      Avengers: Age of Ultron   \n",
       "4   5  Dec 15, 2017            Star Wars Ep. VIII: The Last Jedi   \n",
       "\n",
       "  production_budget domestic_gross worldwide_gross  \n",
       "0      $425,000,000   $760,507,625  $2,776,345,279  \n",
       "1      $410,600,000   $241,063,875  $1,045,663,875  \n",
       "2      $350,000,000    $42,762,350    $149,762,350  \n",
       "3      $330,600,000   $459,005,868  $1,403,013,963  \n",
       "4      $317,000,000   $620,181,382  $1,316,721,747  "
      ]
     },
     "execution_count": 173,
     "metadata": {},
     "output_type": "execute_result"
    }
   ],
   "source": [
    "movies_df.head()"
   ]
  },
  {
   "cell_type": "code",
   "execution_count": 174,
   "metadata": {},
   "outputs": [
    {
     "data": {
      "text/html": [
       "<div>\n",
       "<style scoped>\n",
       "    .dataframe tbody tr th:only-of-type {\n",
       "        vertical-align: middle;\n",
       "    }\n",
       "\n",
       "    .dataframe tbody tr th {\n",
       "        vertical-align: top;\n",
       "    }\n",
       "\n",
       "    .dataframe thead th {\n",
       "        text-align: right;\n",
       "    }\n",
       "</style>\n",
       "<table border=\"1\" class=\"dataframe\">\n",
       "  <thead>\n",
       "    <tr style=\"text-align: right;\">\n",
       "      <th></th>\n",
       "      <th>id</th>\n",
       "      <th>release_date</th>\n",
       "      <th>movie</th>\n",
       "      <th>production_budget</th>\n",
       "      <th>domestic_gross</th>\n",
       "      <th>worldwide_gross</th>\n",
       "    </tr>\n",
       "  </thead>\n",
       "  <tbody>\n",
       "    <tr>\n",
       "      <th>5777</th>\n",
       "      <td>78</td>\n",
       "      <td>Dec 31, 2018</td>\n",
       "      <td>Red 11</td>\n",
       "      <td>$7,000</td>\n",
       "      <td>$0</td>\n",
       "      <td>$0</td>\n",
       "    </tr>\n",
       "    <tr>\n",
       "      <th>5778</th>\n",
       "      <td>79</td>\n",
       "      <td>Apr 2, 1999</td>\n",
       "      <td>Following</td>\n",
       "      <td>$6,000</td>\n",
       "      <td>$48,482</td>\n",
       "      <td>$240,495</td>\n",
       "    </tr>\n",
       "    <tr>\n",
       "      <th>5779</th>\n",
       "      <td>80</td>\n",
       "      <td>Jul 13, 2005</td>\n",
       "      <td>Return to the Land of Wonders</td>\n",
       "      <td>$5,000</td>\n",
       "      <td>$1,338</td>\n",
       "      <td>$1,338</td>\n",
       "    </tr>\n",
       "    <tr>\n",
       "      <th>5780</th>\n",
       "      <td>81</td>\n",
       "      <td>Sep 29, 2015</td>\n",
       "      <td>A Plague So Pleasant</td>\n",
       "      <td>$1,400</td>\n",
       "      <td>$0</td>\n",
       "      <td>$0</td>\n",
       "    </tr>\n",
       "    <tr>\n",
       "      <th>5781</th>\n",
       "      <td>82</td>\n",
       "      <td>Aug 5, 2005</td>\n",
       "      <td>My Date With Drew</td>\n",
       "      <td>$1,100</td>\n",
       "      <td>$181,041</td>\n",
       "      <td>$181,041</td>\n",
       "    </tr>\n",
       "  </tbody>\n",
       "</table>\n",
       "</div>"
      ],
      "text/plain": [
       "      id  release_date                          movie production_budget  \\\n",
       "5777  78  Dec 31, 2018                         Red 11            $7,000   \n",
       "5778  79   Apr 2, 1999                      Following            $6,000   \n",
       "5779  80  Jul 13, 2005  Return to the Land of Wonders            $5,000   \n",
       "5780  81  Sep 29, 2015           A Plague So Pleasant            $1,400   \n",
       "5781  82   Aug 5, 2005              My Date With Drew            $1,100   \n",
       "\n",
       "     domestic_gross worldwide_gross  \n",
       "5777             $0              $0  \n",
       "5778        $48,482        $240,495  \n",
       "5779         $1,338          $1,338  \n",
       "5780             $0              $0  \n",
       "5781       $181,041        $181,041  "
      ]
     },
     "execution_count": 174,
     "metadata": {},
     "output_type": "execute_result"
    }
   ],
   "source": [
    "movies_df.tail()"
   ]
  },
  {
   "cell_type": "code",
   "execution_count": 175,
   "metadata": {},
   "outputs": [
    {
     "name": "stdout",
     "output_type": "stream",
     "text": [
      "<class 'pandas.core.frame.DataFrame'>\n",
      "RangeIndex: 5782 entries, 0 to 5781\n",
      "Data columns (total 6 columns):\n",
      "id                   5782 non-null int64\n",
      "release_date         5782 non-null object\n",
      "movie                5782 non-null object\n",
      "production_budget    5782 non-null object\n",
      "domestic_gross       5782 non-null object\n",
      "worldwide_gross      5782 non-null object\n",
      "dtypes: int64(1), object(5)\n",
      "memory usage: 271.1+ KB\n"
     ]
    }
   ],
   "source": [
    "movies_df.info()"
   ]
  },
  {
   "cell_type": "code",
   "execution_count": 176,
   "metadata": {},
   "outputs": [
    {
     "data": {
      "text/plain": [
       "(5782, 6)"
      ]
     },
     "execution_count": 176,
     "metadata": {},
     "output_type": "execute_result"
    }
   ],
   "source": [
    "movies_df.shape"
   ]
  },
  {
   "cell_type": "markdown",
   "metadata": {},
   "source": [
    "<a id= 'second'></a>\n",
    "#### Second Dataset####"
   ]
  },
  {
   "cell_type": "code",
   "execution_count": 177,
   "metadata": {},
   "outputs": [
    {
     "data": {
      "text/html": [
       "<div>\n",
       "<style scoped>\n",
       "    .dataframe tbody tr th:only-of-type {\n",
       "        vertical-align: middle;\n",
       "    }\n",
       "\n",
       "    .dataframe tbody tr th {\n",
       "        vertical-align: top;\n",
       "    }\n",
       "\n",
       "    .dataframe thead th {\n",
       "        text-align: right;\n",
       "    }\n",
       "</style>\n",
       "<table border=\"1\" class=\"dataframe\">\n",
       "  <thead>\n",
       "    <tr style=\"text-align: right;\">\n",
       "      <th></th>\n",
       "      <th>title</th>\n",
       "      <th>studio</th>\n",
       "      <th>domestic_gross</th>\n",
       "      <th>foreign_gross</th>\n",
       "      <th>year</th>\n",
       "    </tr>\n",
       "  </thead>\n",
       "  <tbody>\n",
       "    <tr>\n",
       "      <th>0</th>\n",
       "      <td>Toy Story 3</td>\n",
       "      <td>BV</td>\n",
       "      <td>415000000.0</td>\n",
       "      <td>652000000</td>\n",
       "      <td>2010</td>\n",
       "    </tr>\n",
       "    <tr>\n",
       "      <th>1</th>\n",
       "      <td>Alice in Wonderland (2010)</td>\n",
       "      <td>BV</td>\n",
       "      <td>334200000.0</td>\n",
       "      <td>691300000</td>\n",
       "      <td>2010</td>\n",
       "    </tr>\n",
       "    <tr>\n",
       "      <th>2</th>\n",
       "      <td>Harry Potter and the Deathly Hallows Part 1</td>\n",
       "      <td>WB</td>\n",
       "      <td>296000000.0</td>\n",
       "      <td>664300000</td>\n",
       "      <td>2010</td>\n",
       "    </tr>\n",
       "    <tr>\n",
       "      <th>3</th>\n",
       "      <td>Inception</td>\n",
       "      <td>WB</td>\n",
       "      <td>292600000.0</td>\n",
       "      <td>535700000</td>\n",
       "      <td>2010</td>\n",
       "    </tr>\n",
       "    <tr>\n",
       "      <th>4</th>\n",
       "      <td>Shrek Forever After</td>\n",
       "      <td>P/DW</td>\n",
       "      <td>238700000.0</td>\n",
       "      <td>513900000</td>\n",
       "      <td>2010</td>\n",
       "    </tr>\n",
       "  </tbody>\n",
       "</table>\n",
       "</div>"
      ],
      "text/plain": [
       "                                         title studio  domestic_gross  \\\n",
       "0                                  Toy Story 3     BV     415000000.0   \n",
       "1                   Alice in Wonderland (2010)     BV     334200000.0   \n",
       "2  Harry Potter and the Deathly Hallows Part 1     WB     296000000.0   \n",
       "3                                    Inception     WB     292600000.0   \n",
       "4                          Shrek Forever After   P/DW     238700000.0   \n",
       "\n",
       "  foreign_gross  year  \n",
       "0     652000000  2010  \n",
       "1     691300000  2010  \n",
       "2     664300000  2010  \n",
       "3     535700000  2010  \n",
       "4     513900000  2010  "
      ]
     },
     "execution_count": 177,
     "metadata": {},
     "output_type": "execute_result"
    }
   ],
   "source": [
    "studio_df = pd.read_csv('./data/bom.movie_gross.csv.gz')\n",
    "studio_df.head()"
   ]
  },
  {
   "cell_type": "code",
   "execution_count": 178,
   "metadata": {},
   "outputs": [
    {
     "data": {
      "text/plain": [
       "(3387, 5)"
      ]
     },
     "execution_count": 178,
     "metadata": {},
     "output_type": "execute_result"
    }
   ],
   "source": [
    "studio_df.shape"
   ]
  },
  {
   "cell_type": "markdown",
   "metadata": {},
   "source": [
    "<a id = 'clean' ></a>\n",
    "### Data Cleaning"
   ]
  },
  {
   "cell_type": "markdown",
   "metadata": {},
   "source": [
    "We cleaned the datasets individually, following the steps below:\n",
    " - Check for null values\n",
    " - Check for duplicate values\n",
    " - Change 'release_date' to a date-time object\n",
    " - Change monetary figures from strings to integers"
   ]
  },
  {
   "cell_type": "code",
   "execution_count": 179,
   "metadata": {},
   "outputs": [
    {
     "data": {
      "text/plain": [
       "id                   0\n",
       "release_date         0\n",
       "movie                0\n",
       "production_budget    0\n",
       "domestic_gross       0\n",
       "worldwide_gross      0\n",
       "dtype: int64"
      ]
     },
     "execution_count": 179,
     "metadata": {},
     "output_type": "execute_result"
    }
   ],
   "source": [
    "movies_df.isna().sum()"
   ]
  },
  {
   "cell_type": "markdown",
   "metadata": {},
   "source": [
    "The dataframe did not appear to contain any explicitly null values."
   ]
  },
  {
   "cell_type": "code",
   "execution_count": 180,
   "metadata": {},
   "outputs": [
    {
     "data": {
      "text/html": [
       "<div>\n",
       "<style scoped>\n",
       "    .dataframe tbody tr th:only-of-type {\n",
       "        vertical-align: middle;\n",
       "    }\n",
       "\n",
       "    .dataframe tbody tr th {\n",
       "        vertical-align: top;\n",
       "    }\n",
       "\n",
       "    .dataframe thead th {\n",
       "        text-align: right;\n",
       "    }\n",
       "</style>\n",
       "<table border=\"1\" class=\"dataframe\">\n",
       "  <thead>\n",
       "    <tr style=\"text-align: right;\">\n",
       "      <th></th>\n",
       "      <th>id</th>\n",
       "      <th>release_date</th>\n",
       "      <th>movie</th>\n",
       "      <th>production_budget</th>\n",
       "      <th>domestic_gross</th>\n",
       "      <th>worldwide_gross</th>\n",
       "    </tr>\n",
       "  </thead>\n",
       "  <tbody>\n",
       "    <tr>\n",
       "      <th>100</th>\n",
       "      <td>1</td>\n",
       "      <td>May 29, 2009</td>\n",
       "      <td>Up</td>\n",
       "      <td>$175,000,000</td>\n",
       "      <td>$293,004,164</td>\n",
       "      <td>$731,463,377</td>\n",
       "    </tr>\n",
       "    <tr>\n",
       "      <th>101</th>\n",
       "      <td>2</td>\n",
       "      <td>Nov 22, 2017</td>\n",
       "      <td>Coco</td>\n",
       "      <td>$175,000,000</td>\n",
       "      <td>$209,726,015</td>\n",
       "      <td>$798,008,101</td>\n",
       "    </tr>\n",
       "    <tr>\n",
       "      <th>102</th>\n",
       "      <td>3</td>\n",
       "      <td>Nov 21, 2018</td>\n",
       "      <td>Ralph Breaks The Internet</td>\n",
       "      <td>$175,000,000</td>\n",
       "      <td>$201,091,711</td>\n",
       "      <td>$524,283,695</td>\n",
       "    </tr>\n",
       "    <tr>\n",
       "      <th>103</th>\n",
       "      <td>4</td>\n",
       "      <td>Mar 27, 2009</td>\n",
       "      <td>Monsters vs. Aliens</td>\n",
       "      <td>$175,000,000</td>\n",
       "      <td>$198,351,526</td>\n",
       "      <td>$381,687,380</td>\n",
       "    </tr>\n",
       "    <tr>\n",
       "      <th>104</th>\n",
       "      <td>5</td>\n",
       "      <td>Jun 16, 2017</td>\n",
       "      <td>Cars 3</td>\n",
       "      <td>$175,000,000</td>\n",
       "      <td>$152,901,115</td>\n",
       "      <td>$383,541,369</td>\n",
       "    </tr>\n",
       "  </tbody>\n",
       "</table>\n",
       "</div>"
      ],
      "text/plain": [
       "     id  release_date                      movie production_budget  \\\n",
       "100   1  May 29, 2009                         Up      $175,000,000   \n",
       "101   2  Nov 22, 2017                       Coco      $175,000,000   \n",
       "102   3  Nov 21, 2018  Ralph Breaks The Internet      $175,000,000   \n",
       "103   4  Mar 27, 2009        Monsters vs. Aliens      $175,000,000   \n",
       "104   5  Jun 16, 2017                     Cars 3      $175,000,000   \n",
       "\n",
       "    domestic_gross worldwide_gross  \n",
       "100   $293,004,164    $731,463,377  \n",
       "101   $209,726,015    $798,008,101  \n",
       "102   $201,091,711    $524,283,695  \n",
       "103   $198,351,526    $381,687,380  \n",
       "104   $152,901,115    $383,541,369  "
      ]
     },
     "execution_count": 180,
     "metadata": {},
     "output_type": "execute_result"
    }
   ],
   "source": [
    "movies_df[movies_df.duplicated(subset = 'id')].head()"
   ]
  },
  {
   "cell_type": "code",
   "execution_count": 181,
   "metadata": {},
   "outputs": [],
   "source": [
    "# drop id column\n",
    "movies_df = movies_df.drop(columns = 'id')"
   ]
  },
  {
   "cell_type": "markdown",
   "metadata": {},
   "source": [
    "We noted that the \"id\" column had many duplicate values. Since it was not pertinent to our analysis, we deleted this column. "
   ]
  },
  {
   "cell_type": "markdown",
   "metadata": {},
   "source": [
    "We then changed the \"release_date\" column to a datetime object so we could sort by most recent to oldest films. "
   ]
  },
  {
   "cell_type": "code",
   "execution_count": 182,
   "metadata": {},
   "outputs": [],
   "source": [
    "movies_df['release_date'] = pd.to_datetime(movies_df['release_date'])"
   ]
  },
  {
   "cell_type": "code",
   "execution_count": 183,
   "metadata": {},
   "outputs": [],
   "source": [
    "movies_df = movies_df.sort_values(by = 'release_date')"
   ]
  },
  {
   "cell_type": "code",
   "execution_count": 184,
   "metadata": {},
   "outputs": [
    {
     "data": {
      "text/html": [
       "<div>\n",
       "<style scoped>\n",
       "    .dataframe tbody tr th:only-of-type {\n",
       "        vertical-align: middle;\n",
       "    }\n",
       "\n",
       "    .dataframe tbody tr th {\n",
       "        vertical-align: top;\n",
       "    }\n",
       "\n",
       "    .dataframe thead th {\n",
       "        text-align: right;\n",
       "    }\n",
       "</style>\n",
       "<table border=\"1\" class=\"dataframe\">\n",
       "  <thead>\n",
       "    <tr style=\"text-align: right;\">\n",
       "      <th></th>\n",
       "      <th>index</th>\n",
       "      <th>release_date</th>\n",
       "      <th>movie</th>\n",
       "      <th>production_budget</th>\n",
       "      <th>domestic_gross</th>\n",
       "      <th>worldwide_gross</th>\n",
       "    </tr>\n",
       "  </thead>\n",
       "  <tbody>\n",
       "    <tr>\n",
       "      <th>0</th>\n",
       "      <td>5677</td>\n",
       "      <td>1915-02-08</td>\n",
       "      <td>The Birth of a Nation</td>\n",
       "      <td>$110,000</td>\n",
       "      <td>$10,000,000</td>\n",
       "      <td>$11,000,000</td>\n",
       "    </tr>\n",
       "    <tr>\n",
       "      <th>1</th>\n",
       "      <td>5523</td>\n",
       "      <td>1916-09-05</td>\n",
       "      <td>Intolerance</td>\n",
       "      <td>$385,907</td>\n",
       "      <td>$0</td>\n",
       "      <td>$0</td>\n",
       "    </tr>\n",
       "    <tr>\n",
       "      <th>2</th>\n",
       "      <td>5614</td>\n",
       "      <td>1916-12-24</td>\n",
       "      <td>20,000 Leagues Under the Sea</td>\n",
       "      <td>$200,000</td>\n",
       "      <td>$8,000,000</td>\n",
       "      <td>$8,000,000</td>\n",
       "    </tr>\n",
       "    <tr>\n",
       "      <th>3</th>\n",
       "      <td>5683</td>\n",
       "      <td>1920-09-17</td>\n",
       "      <td>Over the Hill to the Poorhouse</td>\n",
       "      <td>$100,000</td>\n",
       "      <td>$3,000,000</td>\n",
       "      <td>$3,000,000</td>\n",
       "    </tr>\n",
       "    <tr>\n",
       "      <th>4</th>\n",
       "      <td>5606</td>\n",
       "      <td>1925-11-19</td>\n",
       "      <td>The Big Parade</td>\n",
       "      <td>$245,000</td>\n",
       "      <td>$11,000,000</td>\n",
       "      <td>$22,000,000</td>\n",
       "    </tr>\n",
       "  </tbody>\n",
       "</table>\n",
       "</div>"
      ],
      "text/plain": [
       "   index release_date                           movie production_budget  \\\n",
       "0   5677   1915-02-08           The Birth of a Nation          $110,000   \n",
       "1   5523   1916-09-05                     Intolerance          $385,907   \n",
       "2   5614   1916-12-24    20,000 Leagues Under the Sea          $200,000   \n",
       "3   5683   1920-09-17  Over the Hill to the Poorhouse          $100,000   \n",
       "4   5606   1925-11-19                  The Big Parade          $245,000   \n",
       "\n",
       "  domestic_gross worldwide_gross  \n",
       "0    $10,000,000     $11,000,000  \n",
       "1             $0              $0  \n",
       "2     $8,000,000      $8,000,000  \n",
       "3     $3,000,000      $3,000,000  \n",
       "4    $11,000,000     $22,000,000  "
      ]
     },
     "execution_count": 184,
     "metadata": {},
     "output_type": "execute_result"
    }
   ],
   "source": [
    "movies_df.reset_index().head()"
   ]
  },
  {
   "cell_type": "code",
   "execution_count": 185,
   "metadata": {},
   "outputs": [],
   "source": [
    "movies_df = movies_df.drop(movies_df.tail(39).index)"
   ]
  },
  {
   "cell_type": "code",
   "execution_count": 186,
   "metadata": {},
   "outputs": [
    {
     "data": {
      "text/html": [
       "<div>\n",
       "<style scoped>\n",
       "    .dataframe tbody tr th:only-of-type {\n",
       "        vertical-align: middle;\n",
       "    }\n",
       "\n",
       "    .dataframe tbody tr th {\n",
       "        vertical-align: top;\n",
       "    }\n",
       "\n",
       "    .dataframe thead th {\n",
       "        text-align: right;\n",
       "    }\n",
       "</style>\n",
       "<table border=\"1\" class=\"dataframe\">\n",
       "  <thead>\n",
       "    <tr style=\"text-align: right;\">\n",
       "      <th></th>\n",
       "      <th>release_date</th>\n",
       "      <th>movie</th>\n",
       "      <th>production_budget</th>\n",
       "      <th>domestic_gross</th>\n",
       "      <th>worldwide_gross</th>\n",
       "    </tr>\n",
       "  </thead>\n",
       "  <tbody>\n",
       "    <tr>\n",
       "      <th>4132</th>\n",
       "      <td>2019-03-29</td>\n",
       "      <td>Unplanned</td>\n",
       "      <td>$6,000,000</td>\n",
       "      <td>$18,107,621</td>\n",
       "      <td>$18,107,621</td>\n",
       "    </tr>\n",
       "    <tr>\n",
       "      <th>496</th>\n",
       "      <td>2019-04-05</td>\n",
       "      <td>Shazam!</td>\n",
       "      <td>$85,000,000</td>\n",
       "      <td>$139,606,856</td>\n",
       "      <td>$362,899,733</td>\n",
       "    </tr>\n",
       "    <tr>\n",
       "      <th>2460</th>\n",
       "      <td>2019-04-05</td>\n",
       "      <td>Pet Sematary</td>\n",
       "      <td>$21,000,000</td>\n",
       "      <td>$54,724,696</td>\n",
       "      <td>$109,501,146</td>\n",
       "    </tr>\n",
       "    <tr>\n",
       "      <th>3633</th>\n",
       "      <td>2019-04-05</td>\n",
       "      <td>The Best of Enemies</td>\n",
       "      <td>$10,000,000</td>\n",
       "      <td>$10,205,616</td>\n",
       "      <td>$10,205,616</td>\n",
       "    </tr>\n",
       "    <tr>\n",
       "      <th>1176</th>\n",
       "      <td>2019-04-12</td>\n",
       "      <td>Hellboy</td>\n",
       "      <td>$50,000,000</td>\n",
       "      <td>$21,903,748</td>\n",
       "      <td>$40,725,492</td>\n",
       "    </tr>\n",
       "  </tbody>\n",
       "</table>\n",
       "</div>"
      ],
      "text/plain": [
       "     release_date                movie production_budget domestic_gross  \\\n",
       "4132   2019-03-29            Unplanned        $6,000,000    $18,107,621   \n",
       "496    2019-04-05              Shazam!       $85,000,000   $139,606,856   \n",
       "2460   2019-04-05         Pet Sematary       $21,000,000    $54,724,696   \n",
       "3633   2019-04-05  The Best of Enemies       $10,000,000    $10,205,616   \n",
       "1176   2019-04-12              Hellboy       $50,000,000    $21,903,748   \n",
       "\n",
       "     worldwide_gross  \n",
       "4132     $18,107,621  \n",
       "496     $362,899,733  \n",
       "2460    $109,501,146  \n",
       "3633     $10,205,616  \n",
       "1176     $40,725,492  "
      ]
     },
     "execution_count": 186,
     "metadata": {},
     "output_type": "execute_result"
    }
   ],
   "source": [
    "movies_df.tail()"
   ]
  },
  {
   "cell_type": "markdown",
   "metadata": {},
   "source": [
    "We decided to drop the most recent 39 films in the dataset, since the dataset contained films that had not yet been released. Additionally, recent films had incomplete data so we dropped them from the dataset."
   ]
  },
  {
   "cell_type": "code",
   "execution_count": 187,
   "metadata": {},
   "outputs": [
    {
     "data": {
      "text/html": [
       "<div>\n",
       "<style scoped>\n",
       "    .dataframe tbody tr th:only-of-type {\n",
       "        vertical-align: middle;\n",
       "    }\n",
       "\n",
       "    .dataframe tbody tr th {\n",
       "        vertical-align: top;\n",
       "    }\n",
       "\n",
       "    .dataframe thead th {\n",
       "        text-align: right;\n",
       "    }\n",
       "</style>\n",
       "<table border=\"1\" class=\"dataframe\">\n",
       "  <thead>\n",
       "    <tr style=\"text-align: right;\">\n",
       "      <th></th>\n",
       "      <th>release_date</th>\n",
       "      <th>movie</th>\n",
       "      <th>production_budget</th>\n",
       "      <th>domestic_gross</th>\n",
       "      <th>worldwide_gross</th>\n",
       "    </tr>\n",
       "  </thead>\n",
       "  <tbody>\n",
       "    <tr>\n",
       "      <th>5523</th>\n",
       "      <td>1916-09-05</td>\n",
       "      <td>Intolerance</td>\n",
       "      <td>$385,907</td>\n",
       "      <td>$0</td>\n",
       "      <td>$0</td>\n",
       "    </tr>\n",
       "    <tr>\n",
       "      <th>4984</th>\n",
       "      <td>1927-08-12</td>\n",
       "      <td>Wings</td>\n",
       "      <td>$2,000,000</td>\n",
       "      <td>$0</td>\n",
       "      <td>$0</td>\n",
       "    </tr>\n",
       "    <tr>\n",
       "      <th>4559</th>\n",
       "      <td>1930-11-15</td>\n",
       "      <td>Hell's Angels</td>\n",
       "      <td>$4,000,000</td>\n",
       "      <td>$0</td>\n",
       "      <td>$0</td>\n",
       "    </tr>\n",
       "    <tr>\n",
       "      <th>5180</th>\n",
       "      <td>1936-10-20</td>\n",
       "      <td>The Charge of the Light Brigade</td>\n",
       "      <td>$1,200,000</td>\n",
       "      <td>$0</td>\n",
       "      <td>$0</td>\n",
       "    </tr>\n",
       "    <tr>\n",
       "      <th>5154</th>\n",
       "      <td>1941-10-28</td>\n",
       "      <td>How Green Was My Valley</td>\n",
       "      <td>$1,250,000</td>\n",
       "      <td>$0</td>\n",
       "      <td>$0</td>\n",
       "    </tr>\n",
       "  </tbody>\n",
       "</table>\n",
       "</div>"
      ],
      "text/plain": [
       "     release_date                            movie production_budget  \\\n",
       "5523   1916-09-05                      Intolerance          $385,907   \n",
       "4984   1927-08-12                            Wings        $2,000,000   \n",
       "4559   1930-11-15                    Hell's Angels        $4,000,000   \n",
       "5180   1936-10-20  The Charge of the Light Brigade        $1,200,000   \n",
       "5154   1941-10-28          How Green Was My Valley        $1,250,000   \n",
       "\n",
       "     domestic_gross worldwide_gross  \n",
       "5523             $0              $0  \n",
       "4984             $0              $0  \n",
       "4559             $0              $0  \n",
       "5180             $0              $0  \n",
       "5154             $0              $0  "
      ]
     },
     "execution_count": 187,
     "metadata": {},
     "output_type": "execute_result"
    }
   ],
   "source": [
    "movies_df[movies_df['worldwide_gross']=='$0'].head()"
   ]
  },
  {
   "cell_type": "markdown",
   "metadata": {},
   "source": [
    "The above shows that we still have a significant number of films with a value of USD 0 for 'worldwide_gross'. It is unclear whether this data is missing or whether these films actually had USD 0 gross revenue. "
   ]
  },
  {
   "cell_type": "code",
   "execution_count": 188,
   "metadata": {},
   "outputs": [
    {
     "data": {
      "text/html": [
       "<div>\n",
       "<style scoped>\n",
       "    .dataframe tbody tr th:only-of-type {\n",
       "        vertical-align: middle;\n",
       "    }\n",
       "\n",
       "    .dataframe tbody tr th {\n",
       "        vertical-align: top;\n",
       "    }\n",
       "\n",
       "    .dataframe thead th {\n",
       "        text-align: right;\n",
       "    }\n",
       "</style>\n",
       "<table border=\"1\" class=\"dataframe\">\n",
       "  <thead>\n",
       "    <tr style=\"text-align: right;\">\n",
       "      <th></th>\n",
       "      <th>release_date</th>\n",
       "      <th>movie</th>\n",
       "      <th>production_budget</th>\n",
       "      <th>domestic_gross</th>\n",
       "      <th>worldwide_gross</th>\n",
       "    </tr>\n",
       "  </thead>\n",
       "  <tbody>\n",
       "    <tr>\n",
       "      <th>5677</th>\n",
       "      <td>1915-02-08</td>\n",
       "      <td>The Birth of a Nation</td>\n",
       "      <td>110000</td>\n",
       "      <td>$10,000,000</td>\n",
       "      <td>$11,000,000</td>\n",
       "    </tr>\n",
       "    <tr>\n",
       "      <th>5523</th>\n",
       "      <td>1916-09-05</td>\n",
       "      <td>Intolerance</td>\n",
       "      <td>385907</td>\n",
       "      <td>$0</td>\n",
       "      <td>$0</td>\n",
       "    </tr>\n",
       "    <tr>\n",
       "      <th>5614</th>\n",
       "      <td>1916-12-24</td>\n",
       "      <td>20,000 Leagues Under the Sea</td>\n",
       "      <td>200000</td>\n",
       "      <td>$8,000,000</td>\n",
       "      <td>$8,000,000</td>\n",
       "    </tr>\n",
       "    <tr>\n",
       "      <th>5683</th>\n",
       "      <td>1920-09-17</td>\n",
       "      <td>Over the Hill to the Poorhouse</td>\n",
       "      <td>100000</td>\n",
       "      <td>$3,000,000</td>\n",
       "      <td>$3,000,000</td>\n",
       "    </tr>\n",
       "    <tr>\n",
       "      <th>5606</th>\n",
       "      <td>1925-11-19</td>\n",
       "      <td>The Big Parade</td>\n",
       "      <td>245000</td>\n",
       "      <td>$11,000,000</td>\n",
       "      <td>$22,000,000</td>\n",
       "    </tr>\n",
       "  </tbody>\n",
       "</table>\n",
       "</div>"
      ],
      "text/plain": [
       "     release_date                           movie production_budget  \\\n",
       "5677   1915-02-08           The Birth of a Nation            110000   \n",
       "5523   1916-09-05                     Intolerance            385907   \n",
       "5614   1916-12-24    20,000 Leagues Under the Sea            200000   \n",
       "5683   1920-09-17  Over the Hill to the Poorhouse            100000   \n",
       "5606   1925-11-19                  The Big Parade            245000   \n",
       "\n",
       "     domestic_gross worldwide_gross  \n",
       "5677    $10,000,000     $11,000,000  \n",
       "5523             $0              $0  \n",
       "5614     $8,000,000      $8,000,000  \n",
       "5683     $3,000,000      $3,000,000  \n",
       "5606    $11,000,000     $22,000,000  "
      ]
     },
     "execution_count": 188,
     "metadata": {},
     "output_type": "execute_result"
    }
   ],
   "source": [
    "movies_df['production_budget'] = movies_df['production_budget'].str.replace(',','')\n",
    "movies_df['production_budget'] = movies_df['production_budget'].str.replace('$', '')\n",
    "movies_df.head()"
   ]
  },
  {
   "cell_type": "code",
   "execution_count": 189,
   "metadata": {},
   "outputs": [
    {
     "data": {
      "text/html": [
       "<div>\n",
       "<style scoped>\n",
       "    .dataframe tbody tr th:only-of-type {\n",
       "        vertical-align: middle;\n",
       "    }\n",
       "\n",
       "    .dataframe tbody tr th {\n",
       "        vertical-align: top;\n",
       "    }\n",
       "\n",
       "    .dataframe thead th {\n",
       "        text-align: right;\n",
       "    }\n",
       "</style>\n",
       "<table border=\"1\" class=\"dataframe\">\n",
       "  <thead>\n",
       "    <tr style=\"text-align: right;\">\n",
       "      <th></th>\n",
       "      <th>release_date</th>\n",
       "      <th>movie</th>\n",
       "      <th>production_budget</th>\n",
       "      <th>domestic_gross</th>\n",
       "      <th>worldwide_gross</th>\n",
       "    </tr>\n",
       "  </thead>\n",
       "  <tbody>\n",
       "    <tr>\n",
       "      <th>5677</th>\n",
       "      <td>1915-02-08</td>\n",
       "      <td>The Birth of a Nation</td>\n",
       "      <td>110000</td>\n",
       "      <td>10000000</td>\n",
       "      <td>$11,000,000</td>\n",
       "    </tr>\n",
       "    <tr>\n",
       "      <th>5523</th>\n",
       "      <td>1916-09-05</td>\n",
       "      <td>Intolerance</td>\n",
       "      <td>385907</td>\n",
       "      <td>0</td>\n",
       "      <td>$0</td>\n",
       "    </tr>\n",
       "    <tr>\n",
       "      <th>5614</th>\n",
       "      <td>1916-12-24</td>\n",
       "      <td>20,000 Leagues Under the Sea</td>\n",
       "      <td>200000</td>\n",
       "      <td>8000000</td>\n",
       "      <td>$8,000,000</td>\n",
       "    </tr>\n",
       "    <tr>\n",
       "      <th>5683</th>\n",
       "      <td>1920-09-17</td>\n",
       "      <td>Over the Hill to the Poorhouse</td>\n",
       "      <td>100000</td>\n",
       "      <td>3000000</td>\n",
       "      <td>$3,000,000</td>\n",
       "    </tr>\n",
       "    <tr>\n",
       "      <th>5606</th>\n",
       "      <td>1925-11-19</td>\n",
       "      <td>The Big Parade</td>\n",
       "      <td>245000</td>\n",
       "      <td>11000000</td>\n",
       "      <td>$22,000,000</td>\n",
       "    </tr>\n",
       "  </tbody>\n",
       "</table>\n",
       "</div>"
      ],
      "text/plain": [
       "     release_date                           movie production_budget  \\\n",
       "5677   1915-02-08           The Birth of a Nation            110000   \n",
       "5523   1916-09-05                     Intolerance            385907   \n",
       "5614   1916-12-24    20,000 Leagues Under the Sea            200000   \n",
       "5683   1920-09-17  Over the Hill to the Poorhouse            100000   \n",
       "5606   1925-11-19                  The Big Parade            245000   \n",
       "\n",
       "     domestic_gross worldwide_gross  \n",
       "5677       10000000     $11,000,000  \n",
       "5523              0              $0  \n",
       "5614        8000000      $8,000,000  \n",
       "5683        3000000      $3,000,000  \n",
       "5606       11000000     $22,000,000  "
      ]
     },
     "execution_count": 189,
     "metadata": {},
     "output_type": "execute_result"
    }
   ],
   "source": [
    "movies_df['domestic_gross'] = movies_df['domestic_gross'].str.replace(',','')\n",
    "movies_df['domestic_gross'] = movies_df['domestic_gross'].str.replace('$', '')\n",
    "movies_df.head()"
   ]
  },
  {
   "cell_type": "code",
   "execution_count": 190,
   "metadata": {},
   "outputs": [
    {
     "data": {
      "text/html": [
       "<div>\n",
       "<style scoped>\n",
       "    .dataframe tbody tr th:only-of-type {\n",
       "        vertical-align: middle;\n",
       "    }\n",
       "\n",
       "    .dataframe tbody tr th {\n",
       "        vertical-align: top;\n",
       "    }\n",
       "\n",
       "    .dataframe thead th {\n",
       "        text-align: right;\n",
       "    }\n",
       "</style>\n",
       "<table border=\"1\" class=\"dataframe\">\n",
       "  <thead>\n",
       "    <tr style=\"text-align: right;\">\n",
       "      <th></th>\n",
       "      <th>release_date</th>\n",
       "      <th>movie</th>\n",
       "      <th>production_budget</th>\n",
       "      <th>domestic_gross</th>\n",
       "      <th>worldwide_gross</th>\n",
       "    </tr>\n",
       "  </thead>\n",
       "  <tbody>\n",
       "    <tr>\n",
       "      <th>5677</th>\n",
       "      <td>1915-02-08</td>\n",
       "      <td>The Birth of a Nation</td>\n",
       "      <td>110000</td>\n",
       "      <td>10000000</td>\n",
       "      <td>11000000</td>\n",
       "    </tr>\n",
       "    <tr>\n",
       "      <th>5523</th>\n",
       "      <td>1916-09-05</td>\n",
       "      <td>Intolerance</td>\n",
       "      <td>385907</td>\n",
       "      <td>0</td>\n",
       "      <td>0</td>\n",
       "    </tr>\n",
       "    <tr>\n",
       "      <th>5614</th>\n",
       "      <td>1916-12-24</td>\n",
       "      <td>20,000 Leagues Under the Sea</td>\n",
       "      <td>200000</td>\n",
       "      <td>8000000</td>\n",
       "      <td>8000000</td>\n",
       "    </tr>\n",
       "    <tr>\n",
       "      <th>5683</th>\n",
       "      <td>1920-09-17</td>\n",
       "      <td>Over the Hill to the Poorhouse</td>\n",
       "      <td>100000</td>\n",
       "      <td>3000000</td>\n",
       "      <td>3000000</td>\n",
       "    </tr>\n",
       "    <tr>\n",
       "      <th>5606</th>\n",
       "      <td>1925-11-19</td>\n",
       "      <td>The Big Parade</td>\n",
       "      <td>245000</td>\n",
       "      <td>11000000</td>\n",
       "      <td>22000000</td>\n",
       "    </tr>\n",
       "  </tbody>\n",
       "</table>\n",
       "</div>"
      ],
      "text/plain": [
       "     release_date                           movie production_budget  \\\n",
       "5677   1915-02-08           The Birth of a Nation            110000   \n",
       "5523   1916-09-05                     Intolerance            385907   \n",
       "5614   1916-12-24    20,000 Leagues Under the Sea            200000   \n",
       "5683   1920-09-17  Over the Hill to the Poorhouse            100000   \n",
       "5606   1925-11-19                  The Big Parade            245000   \n",
       "\n",
       "     domestic_gross worldwide_gross  \n",
       "5677       10000000        11000000  \n",
       "5523              0               0  \n",
       "5614        8000000         8000000  \n",
       "5683        3000000         3000000  \n",
       "5606       11000000        22000000  "
      ]
     },
     "execution_count": 190,
     "metadata": {},
     "output_type": "execute_result"
    }
   ],
   "source": [
    "movies_df['worldwide_gross'] = movies_df['worldwide_gross'].str.replace(',','')\n",
    "movies_df['worldwide_gross'] = movies_df['worldwide_gross'].str.replace('$', '')\n",
    "movies_df.head()"
   ]
  },
  {
   "cell_type": "code",
   "execution_count": 191,
   "metadata": {},
   "outputs": [
    {
     "name": "stdout",
     "output_type": "stream",
     "text": [
      "<class 'pandas.core.frame.DataFrame'>\n",
      "Int64Index: 5743 entries, 5677 to 1176\n",
      "Data columns (total 5 columns):\n",
      "release_date         5743 non-null datetime64[ns]\n",
      "movie                5743 non-null object\n",
      "production_budget    5743 non-null int32\n",
      "domestic_gross       5743 non-null int32\n",
      "worldwide_gross      5743 non-null int64\n",
      "dtypes: datetime64[ns](1), int32(2), int64(1), object(1)\n",
      "memory usage: 224.3+ KB\n"
     ]
    }
   ],
   "source": [
    "movies_df['production_budget'] = movies_df['production_budget'].astype(int)\n",
    "movies_df['worldwide_gross'] = movies_df['worldwide_gross'].astype('int64')\n",
    "movies_df['domestic_gross'] = movies_df['domestic_gross'].astype(int)\n",
    "movies_df.info()"
   ]
  },
  {
   "cell_type": "markdown",
   "metadata": {},
   "source": [
    "We converted the production budget, domestic, and worldwide gross columns into integer datatypes, as they had been stored as string values. This will allow us to calculate ROI and net revenue.  "
   ]
  },
  {
   "cell_type": "code",
   "execution_count": 192,
   "metadata": {},
   "outputs": [
    {
     "data": {
      "text/html": [
       "<div>\n",
       "<style scoped>\n",
       "    .dataframe tbody tr th:only-of-type {\n",
       "        vertical-align: middle;\n",
       "    }\n",
       "\n",
       "    .dataframe tbody tr th {\n",
       "        vertical-align: top;\n",
       "    }\n",
       "\n",
       "    .dataframe thead th {\n",
       "        text-align: right;\n",
       "    }\n",
       "</style>\n",
       "<table border=\"1\" class=\"dataframe\">\n",
       "  <thead>\n",
       "    <tr style=\"text-align: right;\">\n",
       "      <th></th>\n",
       "      <th>release_date</th>\n",
       "      <th>movie</th>\n",
       "      <th>production_budget</th>\n",
       "      <th>domestic_gross</th>\n",
       "      <th>worldwide_gross</th>\n",
       "    </tr>\n",
       "  </thead>\n",
       "  <tbody>\n",
       "  </tbody>\n",
       "</table>\n",
       "</div>"
      ],
      "text/plain": [
       "Empty DataFrame\n",
       "Columns: [release_date, movie, production_budget, domestic_gross, worldwide_gross]\n",
       "Index: []"
      ]
     },
     "execution_count": 192,
     "metadata": {},
     "output_type": "execute_result"
    }
   ],
   "source": [
    "movies_df[(movies_df['domestic_gross'] > movies_df['worldwide_gross'])]"
   ]
  },
  {
   "cell_type": "markdown",
   "metadata": {},
   "source": [
    "We made an **assumption** that domestic gross is included in the worldwide gross figures. As demonstrated above, there are no instances where domestic gross figures are higher than worldwide gross, indicating that our assumption may be valid. "
   ]
  },
  {
   "cell_type": "code",
   "execution_count": 193,
   "metadata": {},
   "outputs": [],
   "source": [
    "movies_df['roi'] = movies_df['worldwide_gross'] / movies_df['production_budget']"
   ]
  },
  {
   "cell_type": "code",
   "execution_count": 194,
   "metadata": {},
   "outputs": [],
   "source": [
    "movies_df['net_revenue'] = movies_df['worldwide_gross'] - movies_df['production_budget']"
   ]
  },
  {
   "cell_type": "code",
   "execution_count": 195,
   "metadata": {},
   "outputs": [],
   "source": [
    "movies_df.drop('domestic_gross', axis = 1, inplace = True)"
   ]
  },
  {
   "cell_type": "markdown",
   "metadata": {},
   "source": [
    "Finally, we created  **three new features** --'roi', 'net_revenue', 'movie_budget_size'--and we dropped the 'domestic_gross' column."
   ]
  },
  {
   "cell_type": "markdown",
   "metadata": {},
   "source": [
    "<a id=\"clean2\"> </a>\n",
    "### Data Cleaning Continued"
   ]
  },
  {
   "cell_type": "code",
   "execution_count": 196,
   "metadata": {},
   "outputs": [
    {
     "data": {
      "text/plain": [
       "title                0\n",
       "studio               5\n",
       "domestic_gross      28\n",
       "foreign_gross     1350\n",
       "year                 0\n",
       "dtype: int64"
      ]
     },
     "execution_count": 196,
     "metadata": {},
     "output_type": "execute_result"
    }
   ],
   "source": [
    "studio_df.isna().sum()"
   ]
  },
  {
   "cell_type": "code",
   "execution_count": 197,
   "metadata": {},
   "outputs": [
    {
     "data": {
      "text/html": [
       "<div>\n",
       "<style scoped>\n",
       "    .dataframe tbody tr th:only-of-type {\n",
       "        vertical-align: middle;\n",
       "    }\n",
       "\n",
       "    .dataframe tbody tr th {\n",
       "        vertical-align: top;\n",
       "    }\n",
       "\n",
       "    .dataframe thead th {\n",
       "        text-align: right;\n",
       "    }\n",
       "</style>\n",
       "<table border=\"1\" class=\"dataframe\">\n",
       "  <thead>\n",
       "    <tr style=\"text-align: right;\">\n",
       "      <th></th>\n",
       "      <th>title</th>\n",
       "      <th>studio</th>\n",
       "      <th>domestic_gross</th>\n",
       "      <th>foreign_gross</th>\n",
       "      <th>year</th>\n",
       "    </tr>\n",
       "  </thead>\n",
       "  <tbody>\n",
       "    <tr>\n",
       "      <th>3045</th>\n",
       "      <td>Bluebeard</td>\n",
       "      <td>WGUSA</td>\n",
       "      <td>43100.0</td>\n",
       "      <td>NaN</td>\n",
       "      <td>2017</td>\n",
       "    </tr>\n",
       "  </tbody>\n",
       "</table>\n",
       "</div>"
      ],
      "text/plain": [
       "          title studio  domestic_gross foreign_gross  year\n",
       "3045  Bluebeard  WGUSA         43100.0           NaN  2017"
      ]
     },
     "execution_count": 197,
     "metadata": {},
     "output_type": "execute_result"
    }
   ],
   "source": [
    "studio_df[studio_df['title'].duplicated()]"
   ]
  },
  {
   "cell_type": "code",
   "execution_count": 198,
   "metadata": {},
   "outputs": [
    {
     "data": {
      "text/html": [
       "<div>\n",
       "<style scoped>\n",
       "    .dataframe tbody tr th:only-of-type {\n",
       "        vertical-align: middle;\n",
       "    }\n",
       "\n",
       "    .dataframe tbody tr th {\n",
       "        vertical-align: top;\n",
       "    }\n",
       "\n",
       "    .dataframe thead th {\n",
       "        text-align: right;\n",
       "    }\n",
       "</style>\n",
       "<table border=\"1\" class=\"dataframe\">\n",
       "  <thead>\n",
       "    <tr style=\"text-align: right;\">\n",
       "      <th></th>\n",
       "      <th>title</th>\n",
       "      <th>studio</th>\n",
       "      <th>domestic_gross</th>\n",
       "      <th>foreign_gross</th>\n",
       "      <th>year</th>\n",
       "    </tr>\n",
       "  </thead>\n",
       "  <tbody>\n",
       "    <tr>\n",
       "      <th>317</th>\n",
       "      <td>Bluebeard</td>\n",
       "      <td>Strand</td>\n",
       "      <td>33500.0</td>\n",
       "      <td>5200</td>\n",
       "      <td>2010</td>\n",
       "    </tr>\n",
       "    <tr>\n",
       "      <th>3045</th>\n",
       "      <td>Bluebeard</td>\n",
       "      <td>WGUSA</td>\n",
       "      <td>43100.0</td>\n",
       "      <td>NaN</td>\n",
       "      <td>2017</td>\n",
       "    </tr>\n",
       "  </tbody>\n",
       "</table>\n",
       "</div>"
      ],
      "text/plain": [
       "          title  studio  domestic_gross foreign_gross  year\n",
       "317   Bluebeard  Strand         33500.0          5200  2010\n",
       "3045  Bluebeard   WGUSA         43100.0           NaN  2017"
      ]
     },
     "execution_count": 198,
     "metadata": {},
     "output_type": "execute_result"
    }
   ],
   "source": [
    "studio_df[studio_df['title'] == 'Bluebeard'] #these aren't actually duplicates"
   ]
  },
  {
   "cell_type": "markdown",
   "metadata": {},
   "source": [
    "We note that 'domestic_gross' and 'foreign_gross' columns have missing values. However, we decided to keep the dataset as is because our main interest is the studios. Although we already captured domestic and foreign gross values in the first data source, we keep these values in case they can fill in any gaps in our first dataset."
   ]
  },
  {
   "cell_type": "markdown",
   "metadata": {},
   "source": [
    "<a id='merge'></a>\n",
    "### Merging the Datasets ###"
   ]
  },
  {
   "cell_type": "markdown",
   "metadata": {},
   "source": [
    "To merge the datasets, we first had to create a unique identifier column. To do so, we created a new column 'title_year', which concatenated two strings--the movie title and the year of release. We created this column in both datasets and performed an inner merge with 'title_year' as the primary key. The resulting dataframe contained data on 1215 movies. This is much smaller than our initial dataset, but presents enough information to provide some insights on studio size as it relates to film success. \n",
    "The dataset also now spans the time period 2010 through 2018. "
   ]
  },
  {
   "cell_type": "code",
   "execution_count": 199,
   "metadata": {},
   "outputs": [],
   "source": [
    "movies_df['year'] = movies_df['release_date'].dt.year\n",
    "movies_df['year'] = movies_df['year'].astype(str)\n",
    "movies_df.rename(columns = {'movie': 'title'}, inplace = True) \n",
    "movies_df['title_year'] = movies_df['title'] + ' ' + movies_df['year'] # make new column: title + year in movies"
   ]
  },
  {
   "cell_type": "code",
   "execution_count": 200,
   "metadata": {},
   "outputs": [],
   "source": [
    "studio_df['year'] = studio_df['year'].astype(str)\n",
    "studio_df['title_year'] = studio_df['title'] + ' ' + studio_df['year'] # make new column: title + year in studio"
   ]
  },
  {
   "cell_type": "code",
   "execution_count": 201,
   "metadata": {},
   "outputs": [],
   "source": [
    "merged_df = movies_df.merge(studio_df, on = 'title_year', how = 'inner')"
   ]
  },
  {
   "cell_type": "code",
   "execution_count": 202,
   "metadata": {},
   "outputs": [
    {
     "data": {
      "text/html": [
       "<div>\n",
       "<style scoped>\n",
       "    .dataframe tbody tr th:only-of-type {\n",
       "        vertical-align: middle;\n",
       "    }\n",
       "\n",
       "    .dataframe tbody tr th {\n",
       "        vertical-align: top;\n",
       "    }\n",
       "\n",
       "    .dataframe thead th {\n",
       "        text-align: right;\n",
       "    }\n",
       "</style>\n",
       "<table border=\"1\" class=\"dataframe\">\n",
       "  <thead>\n",
       "    <tr style=\"text-align: right;\">\n",
       "      <th></th>\n",
       "      <th>release_date</th>\n",
       "      <th>title_x</th>\n",
       "      <th>production_budget</th>\n",
       "      <th>worldwide_gross</th>\n",
       "      <th>roi</th>\n",
       "      <th>net_revenue</th>\n",
       "      <th>year_x</th>\n",
       "      <th>title_year</th>\n",
       "      <th>title_y</th>\n",
       "      <th>studio</th>\n",
       "      <th>domestic_gross</th>\n",
       "      <th>foreign_gross</th>\n",
       "      <th>year_y</th>\n",
       "    </tr>\n",
       "  </thead>\n",
       "  <tbody>\n",
       "  </tbody>\n",
       "</table>\n",
       "</div>"
      ],
      "text/plain": [
       "Empty DataFrame\n",
       "Columns: [release_date, title_x, production_budget, worldwide_gross, roi, net_revenue, year_x, title_year, title_y, studio, domestic_gross, foreign_gross, year_y]\n",
       "Index: []"
      ]
     },
     "execution_count": 202,
     "metadata": {},
     "output_type": "execute_result"
    }
   ],
   "source": [
    "merged_df[merged_df['title_year'].duplicated()]"
   ]
  },
  {
   "cell_type": "code",
   "execution_count": 203,
   "metadata": {},
   "outputs": [],
   "source": [
    "merged_df = merged_df[merged_df['title_year'] != 'Home 2009']"
   ]
  },
  {
   "cell_type": "markdown",
   "metadata": {},
   "source": [
    "We only found one duplicate, which ended up being a free film (no revenue), so we deleted it from our dataset."
   ]
  },
  {
   "cell_type": "code",
   "execution_count": 204,
   "metadata": {},
   "outputs": [
    {
     "data": {
      "text/plain": [
       "(1215, 13)"
      ]
     },
     "execution_count": 204,
     "metadata": {},
     "output_type": "execute_result"
    }
   ],
   "source": [
    "merged_df.shape"
   ]
  },
  {
   "cell_type": "code",
   "execution_count": 205,
   "metadata": {},
   "outputs": [
    {
     "data": {
      "text/html": [
       "<div>\n",
       "<style scoped>\n",
       "    .dataframe tbody tr th:only-of-type {\n",
       "        vertical-align: middle;\n",
       "    }\n",
       "\n",
       "    .dataframe tbody tr th {\n",
       "        vertical-align: top;\n",
       "    }\n",
       "\n",
       "    .dataframe thead th {\n",
       "        text-align: right;\n",
       "    }\n",
       "</style>\n",
       "<table border=\"1\" class=\"dataframe\">\n",
       "  <thead>\n",
       "    <tr style=\"text-align: right;\">\n",
       "      <th></th>\n",
       "      <th>release_date</th>\n",
       "      <th>title_x</th>\n",
       "      <th>production_budget</th>\n",
       "      <th>worldwide_gross</th>\n",
       "      <th>roi</th>\n",
       "      <th>net_revenue</th>\n",
       "      <th>year_x</th>\n",
       "      <th>title_year</th>\n",
       "      <th>title_y</th>\n",
       "      <th>studio</th>\n",
       "      <th>domestic_gross</th>\n",
       "      <th>foreign_gross</th>\n",
       "      <th>year_y</th>\n",
       "    </tr>\n",
       "  </thead>\n",
       "  <tbody>\n",
       "  </tbody>\n",
       "</table>\n",
       "</div>"
      ],
      "text/plain": [
       "Empty DataFrame\n",
       "Columns: [release_date, title_x, production_budget, worldwide_gross, roi, net_revenue, year_x, title_year, title_y, studio, domestic_gross, foreign_gross, year_y]\n",
       "Index: []"
      ]
     },
     "execution_count": 205,
     "metadata": {},
     "output_type": "execute_result"
    }
   ],
   "source": [
    "merged_df[(merged_df['worldwide_gross'] == 0)]"
   ]
  },
  {
   "cell_type": "code",
   "execution_count": 206,
   "metadata": {},
   "outputs": [],
   "source": [
    "merged_df = merged_df.drop(['domestic_gross', 'foreign_gross'], axis = 1)\n",
    "merged_df = merged_df.drop(['title_y', 'year_y'], axis = 1)\n",
    "merged_df = merged_df.drop(['year_x', 'title_x'], axis = 1)"
   ]
  },
  {
   "cell_type": "markdown",
   "metadata": {},
   "source": [
    "The inner merge removed our worldwide_gross values that were coded as USD 0. Therefore, we can drop the domestic and foreign gross columns from the studio dataset, and drop the titles and years columns. "
   ]
  },
  {
   "cell_type": "code",
   "execution_count": 207,
   "metadata": {},
   "outputs": [
    {
     "data": {
      "text/plain": [
       "(1215, 7)"
      ]
     },
     "execution_count": 207,
     "metadata": {},
     "output_type": "execute_result"
    }
   ],
   "source": [
    "merged_df.shape"
   ]
  },
  {
   "cell_type": "markdown",
   "metadata": {},
   "source": [
    "The dataset is much smaller after the inner join. The movies span release years from 2010 to 2018."
   ]
  },
  {
   "cell_type": "code",
   "execution_count": 208,
   "metadata": {},
   "outputs": [
    {
     "data": {
      "text/plain": [
       "2010    180\n",
       "2011    161\n",
       "2015    142\n",
       "2012    141\n",
       "2016    138\n",
       "2013    137\n",
       "2014    124\n",
       "2017     99\n",
       "2018     93\n",
       "Name: release_date, dtype: int64"
      ]
     },
     "execution_count": 208,
     "metadata": {},
     "output_type": "execute_result"
    }
   ],
   "source": [
    "merged_df['release_date'].dt.year.value_counts()"
   ]
  },
  {
   "cell_type": "markdown",
   "metadata": {},
   "source": [
    "<a id='studio'></a>\n",
    "### Categorizing Studio Size"
   ]
  },
  {
   "cell_type": "markdown",
   "metadata": {},
   "source": [
    "We created a new variable ('studio_size') which segmented studios into three categories: small, medium, and large. There were 96 unique studios in our dataset. One metric to use to categorize by size could be market share. However, this would be difficult to represent across the timescale of our dataset (2010-2018). Another metric could be the average yearly production budgets. However, this data is difficult to find. Therefore, we used available data to **estimate** studio size based on the total production budgets by studio for the films in the dataset. This approach has its limitations. It is possible that studios produced more films over the 2010-2018 timeframe than are present in our dataset, and thus not factored into total production budget figures.  "
   ]
  },
  {
   "cell_type": "code",
   "execution_count": 209,
   "metadata": {},
   "outputs": [
    {
     "data": {
      "text/plain": [
       "96"
      ]
     },
     "execution_count": 209,
     "metadata": {},
     "output_type": "execute_result"
    }
   ],
   "source": [
    "merged_df['studio'].nunique()"
   ]
  },
  {
   "cell_type": "code",
   "execution_count": 210,
   "metadata": {},
   "outputs": [
    {
     "data": {
      "text/html": [
       "<div>\n",
       "<style scoped>\n",
       "    .dataframe tbody tr th:only-of-type {\n",
       "        vertical-align: middle;\n",
       "    }\n",
       "\n",
       "    .dataframe tbody tr th {\n",
       "        vertical-align: top;\n",
       "    }\n",
       "\n",
       "    .dataframe thead th {\n",
       "        text-align: right;\n",
       "    }\n",
       "</style>\n",
       "<table border=\"1\" class=\"dataframe\">\n",
       "  <thead>\n",
       "    <tr style=\"text-align: right;\">\n",
       "      <th></th>\n",
       "      <th>production_budget</th>\n",
       "    </tr>\n",
       "    <tr>\n",
       "      <th>studio</th>\n",
       "      <th></th>\n",
       "    </tr>\n",
       "  </thead>\n",
       "  <tbody>\n",
       "    <tr>\n",
       "      <th>3D</th>\n",
       "      <td>5000000.0</td>\n",
       "    </tr>\n",
       "    <tr>\n",
       "      <th>A24</th>\n",
       "      <td>143100000.0</td>\n",
       "    </tr>\n",
       "    <tr>\n",
       "      <th>ATO</th>\n",
       "      <td>12500000.0</td>\n",
       "    </tr>\n",
       "    <tr>\n",
       "      <th>Affirm</th>\n",
       "      <td>7000000.0</td>\n",
       "    </tr>\n",
       "    <tr>\n",
       "      <th>Alc</th>\n",
       "      <td>10000000.0</td>\n",
       "    </tr>\n",
       "  </tbody>\n",
       "</table>\n",
       "</div>"
      ],
      "text/plain": [
       "        production_budget\n",
       "studio                   \n",
       "3D              5000000.0\n",
       "A24           143100000.0\n",
       "ATO            12500000.0\n",
       "Affirm          7000000.0\n",
       "Alc            10000000.0"
      ]
     },
     "execution_count": 210,
     "metadata": {},
     "output_type": "execute_result"
    }
   ],
   "source": [
    "size = merged_df.groupby(['studio'])['production_budget'].sum()\n",
    "size = pd.DataFrame(size)\n",
    "size.head()"
   ]
  },
  {
   "cell_type": "markdown",
   "metadata": {},
   "source": [
    "**We categorized studio sizes as follows:**\n",
    " - \"Large\" studios have total production budgets in the tens and hundreds of billions. \n",
    " - \"Medium\" studios have total production budgets in the billions.\n",
    " - \"Small\" studios have total production budgets in the millions and smaller. "
   ]
  },
  {
   "cell_type": "code",
   "execution_count": 211,
   "metadata": {},
   "outputs": [],
   "source": [
    "size['production_budget'] = size['production_budget'].astype(str)\n",
    "size['studio_size'] = size['production_budget'].map(lambda x: len(x))\n",
    "size['studio_size'].replace([12, 11, 10, 9, 8], [\"Large\", \"Large\", \"Medium\", \"Small\", \"Small\"], inplace = True)"
   ]
  },
  {
   "cell_type": "code",
   "execution_count": 212,
   "metadata": {},
   "outputs": [],
   "source": [
    "final_df = merged_df.merge(size, on = 'studio', how = 'inner')"
   ]
  },
  {
   "cell_type": "code",
   "execution_count": 213,
   "metadata": {},
   "outputs": [],
   "source": [
    "final_df.drop(['production_budget_y'], axis = 1, inplace = True)"
   ]
  },
  {
   "cell_type": "code",
   "execution_count": 214,
   "metadata": {},
   "outputs": [
    {
     "data": {
      "text/plain": [
       "Large     1085\n",
       "Medium      97\n",
       "Small       32\n",
       "Name: studio_size, dtype: int64"
      ]
     },
     "execution_count": 214,
     "metadata": {},
     "output_type": "execute_result"
    }
   ],
   "source": [
    "final_df['studio_size'].value_counts()"
   ]
  },
  {
   "cell_type": "code",
   "execution_count": 215,
   "metadata": {},
   "outputs": [
    {
     "data": {
      "text/html": [
       "<div>\n",
       "<style scoped>\n",
       "    .dataframe tbody tr th:only-of-type {\n",
       "        vertical-align: middle;\n",
       "    }\n",
       "\n",
       "    .dataframe tbody tr th {\n",
       "        vertical-align: top;\n",
       "    }\n",
       "\n",
       "    .dataframe thead th {\n",
       "        text-align: right;\n",
       "    }\n",
       "</style>\n",
       "<table border=\"1\" class=\"dataframe\">\n",
       "  <thead>\n",
       "    <tr style=\"text-align: right;\">\n",
       "      <th></th>\n",
       "      <th>release_date</th>\n",
       "      <th>production_budget_x</th>\n",
       "      <th>worldwide_gross</th>\n",
       "      <th>roi</th>\n",
       "      <th>net_revenue</th>\n",
       "      <th>title_year</th>\n",
       "      <th>studio</th>\n",
       "      <th>studio_size</th>\n",
       "    </tr>\n",
       "  </thead>\n",
       "  <tbody>\n",
       "    <tr>\n",
       "      <th>0</th>\n",
       "      <td>2010-01-08</td>\n",
       "      <td>18000000</td>\n",
       "      <td>19685588</td>\n",
       "      <td>1.093644</td>\n",
       "      <td>1685588</td>\n",
       "      <td>Youth in Revolt 2010</td>\n",
       "      <td>W/Dim.</td>\n",
       "      <td>Large</td>\n",
       "    </tr>\n",
       "    <tr>\n",
       "      <th>1</th>\n",
       "      <td>2010-08-20</td>\n",
       "      <td>24000000</td>\n",
       "      <td>83660160</td>\n",
       "      <td>3.485840</td>\n",
       "      <td>59660160</td>\n",
       "      <td>Piranha 3D 2010</td>\n",
       "      <td>W/Dim.</td>\n",
       "      <td>Large</td>\n",
       "    </tr>\n",
       "    <tr>\n",
       "      <th>2</th>\n",
       "      <td>2011-04-15</td>\n",
       "      <td>40000000</td>\n",
       "      <td>95989590</td>\n",
       "      <td>2.399740</td>\n",
       "      <td>55989590</td>\n",
       "      <td>Scream 4 2011</td>\n",
       "      <td>W/Dim.</td>\n",
       "      <td>Large</td>\n",
       "    </tr>\n",
       "    <tr>\n",
       "      <th>3</th>\n",
       "      <td>2011-08-19</td>\n",
       "      <td>27000000</td>\n",
       "      <td>80681183</td>\n",
       "      <td>2.988192</td>\n",
       "      <td>53681183</td>\n",
       "      <td>Spy Kids: All the Time in the World 2011</td>\n",
       "      <td>W/Dim.</td>\n",
       "      <td>Large</td>\n",
       "    </tr>\n",
       "    <tr>\n",
       "      <th>4</th>\n",
       "      <td>2011-09-02</td>\n",
       "      <td>5000000</td>\n",
       "      <td>26517819</td>\n",
       "      <td>5.303564</td>\n",
       "      <td>21517819</td>\n",
       "      <td>Apollo 18 2011</td>\n",
       "      <td>W/Dim.</td>\n",
       "      <td>Large</td>\n",
       "    </tr>\n",
       "  </tbody>\n",
       "</table>\n",
       "</div>"
      ],
      "text/plain": [
       "  release_date  production_budget_x  worldwide_gross       roi  net_revenue  \\\n",
       "0   2010-01-08             18000000         19685588  1.093644      1685588   \n",
       "1   2010-08-20             24000000         83660160  3.485840     59660160   \n",
       "2   2011-04-15             40000000         95989590  2.399740     55989590   \n",
       "3   2011-08-19             27000000         80681183  2.988192     53681183   \n",
       "4   2011-09-02              5000000         26517819  5.303564     21517819   \n",
       "\n",
       "                                 title_year  studio studio_size  \n",
       "0                      Youth in Revolt 2010  W/Dim.       Large  \n",
       "1                           Piranha 3D 2010  W/Dim.       Large  \n",
       "2                             Scream 4 2011  W/Dim.       Large  \n",
       "3  Spy Kids: All the Time in the World 2011  W/Dim.       Large  \n",
       "4                            Apollo 18 2011  W/Dim.       Large  "
      ]
     },
     "execution_count": 215,
     "metadata": {},
     "output_type": "execute_result"
    }
   ],
   "source": [
    "final_df.head()"
   ]
  },
  {
   "cell_type": "markdown",
   "metadata": {},
   "source": [
    "After creating our new variable 'studio_size' and dropping unnecessary columns, we exported our dataset as a csv file. "
   ]
  },
  {
   "cell_type": "code",
   "execution_count": 227,
   "metadata": {},
   "outputs": [
    {
     "data": {
      "text/plain": [
       "array([[<matplotlib.axes._subplots.AxesSubplot object at 0x0000027D79AB2400>]],\n",
       "      dtype=object)"
      ]
     },
     "execution_count": 227,
     "metadata": {},
     "output_type": "execute_result"
    },
    {
     "data": {
      "image/png": "[encoded data removed]",
      "text/plain": [
       "<Figure size 432x288 with 1 Axes>"
      ]
     },
     "metadata": {
      "needs_background": "light"
     },
     "output_type": "display_data"
    }
   ],
   "source": [
    "final_df.hist('production_budget_x')"
   ]
  },
  {
   "cell_type": "code",
   "execution_count": 248,
   "metadata": {},
   "outputs": [],
   "source": [
    "final_df['prod_to_str'] = final_df['production_budget_x'].astype(str)"
   ]
  },
  {
   "cell_type": "code",
   "execution_count": 249,
   "metadata": {},
   "outputs": [
    {
     "data": {
      "text/html": [
       "<div>\n",
       "<style scoped>\n",
       "    .dataframe tbody tr th:only-of-type {\n",
       "        vertical-align: middle;\n",
       "    }\n",
       "\n",
       "    .dataframe tbody tr th {\n",
       "        vertical-align: top;\n",
       "    }\n",
       "\n",
       "    .dataframe thead th {\n",
       "        text-align: right;\n",
       "    }\n",
       "</style>\n",
       "<table border=\"1\" class=\"dataframe\">\n",
       "  <thead>\n",
       "    <tr style=\"text-align: right;\">\n",
       "      <th></th>\n",
       "      <th>release_date</th>\n",
       "      <th>production_budget_x</th>\n",
       "      <th>worldwide_gross</th>\n",
       "      <th>roi</th>\n",
       "      <th>net_revenue</th>\n",
       "      <th>title_year</th>\n",
       "      <th>studio</th>\n",
       "      <th>studio_size</th>\n",
       "      <th>prod_to_str</th>\n",
       "      <th>movie_budget_size</th>\n",
       "    </tr>\n",
       "  </thead>\n",
       "  <tbody>\n",
       "    <tr>\n",
       "      <th>0</th>\n",
       "      <td>2010-01-08</td>\n",
       "      <td>18000000</td>\n",
       "      <td>19685588</td>\n",
       "      <td>1.093644</td>\n",
       "      <td>1685588</td>\n",
       "      <td>Youth in Revolt 2010</td>\n",
       "      <td>W/Dim.</td>\n",
       "      <td>Large</td>\n",
       "      <td>18000000</td>\n",
       "      <td>8</td>\n",
       "    </tr>\n",
       "    <tr>\n",
       "      <th>1</th>\n",
       "      <td>2010-08-20</td>\n",
       "      <td>24000000</td>\n",
       "      <td>83660160</td>\n",
       "      <td>3.485840</td>\n",
       "      <td>59660160</td>\n",
       "      <td>Piranha 3D 2010</td>\n",
       "      <td>W/Dim.</td>\n",
       "      <td>Large</td>\n",
       "      <td>24000000</td>\n",
       "      <td>8</td>\n",
       "    </tr>\n",
       "    <tr>\n",
       "      <th>2</th>\n",
       "      <td>2011-04-15</td>\n",
       "      <td>40000000</td>\n",
       "      <td>95989590</td>\n",
       "      <td>2.399740</td>\n",
       "      <td>55989590</td>\n",
       "      <td>Scream 4 2011</td>\n",
       "      <td>W/Dim.</td>\n",
       "      <td>Large</td>\n",
       "      <td>40000000</td>\n",
       "      <td>8</td>\n",
       "    </tr>\n",
       "    <tr>\n",
       "      <th>3</th>\n",
       "      <td>2011-08-19</td>\n",
       "      <td>27000000</td>\n",
       "      <td>80681183</td>\n",
       "      <td>2.988192</td>\n",
       "      <td>53681183</td>\n",
       "      <td>Spy Kids: All the Time in the World 2011</td>\n",
       "      <td>W/Dim.</td>\n",
       "      <td>Large</td>\n",
       "      <td>27000000</td>\n",
       "      <td>8</td>\n",
       "    </tr>\n",
       "    <tr>\n",
       "      <th>4</th>\n",
       "      <td>2011-09-02</td>\n",
       "      <td>5000000</td>\n",
       "      <td>26517819</td>\n",
       "      <td>5.303564</td>\n",
       "      <td>21517819</td>\n",
       "      <td>Apollo 18 2011</td>\n",
       "      <td>W/Dim.</td>\n",
       "      <td>Large</td>\n",
       "      <td>5000000</td>\n",
       "      <td>7</td>\n",
       "    </tr>\n",
       "  </tbody>\n",
       "</table>\n",
       "</div>"
      ],
      "text/plain": [
       "  release_date  production_budget_x  worldwide_gross       roi  net_revenue  \\\n",
       "0   2010-01-08             18000000         19685588  1.093644      1685588   \n",
       "1   2010-08-20             24000000         83660160  3.485840     59660160   \n",
       "2   2011-04-15             40000000         95989590  2.399740     55989590   \n",
       "3   2011-08-19             27000000         80681183  2.988192     53681183   \n",
       "4   2011-09-02              5000000         26517819  5.303564     21517819   \n",
       "\n",
       "                                 title_year  studio studio_size prod_to_str  \\\n",
       "0                      Youth in Revolt 2010  W/Dim.       Large    18000000   \n",
       "1                           Piranha 3D 2010  W/Dim.       Large    24000000   \n",
       "2                             Scream 4 2011  W/Dim.       Large    40000000   \n",
       "3  Spy Kids: All the Time in the World 2011  W/Dim.       Large    27000000   \n",
       "4                            Apollo 18 2011  W/Dim.       Large     5000000   \n",
       "\n",
       "   movie_budget_size  \n",
       "0                  8  \n",
       "1                  8  \n",
       "2                  8  \n",
       "3                  8  \n",
       "4                  7  "
      ]
     },
     "execution_count": 249,
     "metadata": {},
     "output_type": "execute_result"
    }
   ],
   "source": [
    "final_df['movie_budget_size'] = final_df['prod_to_str'].map(lambda x: len(x))\n",
    "final_df.head()"
   ]
  },
  {
   "cell_type": "code",
   "execution_count": 250,
   "metadata": {},
   "outputs": [
    {
     "data": {
      "text/plain": [
       "8    768\n",
       "7    239\n",
       "9    187\n",
       "6     19\n",
       "5      1\n",
       "Name: movie_budget_size, dtype: int64"
      ]
     },
     "execution_count": 250,
     "metadata": {},
     "output_type": "execute_result"
    }
   ],
   "source": [
    "final_df['movie_budget_size'].value_counts()"
   ]
  },
  {
   "cell_type": "code",
   "execution_count": 251,
   "metadata": {},
   "outputs": [],
   "source": [
    "final_df['movie_budget_size'].replace([9, 8, 7, 6, 5], [\"Blockbuster\", \"Blockbuster\", \"Medium\", \"Cheap\", \"Cheap\"], inplace = True)"
   ]
  },
  {
   "cell_type": "code",
   "execution_count": 252,
   "metadata": {},
   "outputs": [],
   "source": [
    "final_df.drop('prod_to_str', axis = 1, inplace = True)"
   ]
  },
  {
   "cell_type": "code",
   "execution_count": 253,
   "metadata": {},
   "outputs": [
    {
     "data": {
      "text/html": [
       "<div>\n",
       "<style scoped>\n",
       "    .dataframe tbody tr th:only-of-type {\n",
       "        vertical-align: middle;\n",
       "    }\n",
       "\n",
       "    .dataframe tbody tr th {\n",
       "        vertical-align: top;\n",
       "    }\n",
       "\n",
       "    .dataframe thead th {\n",
       "        text-align: right;\n",
       "    }\n",
       "</style>\n",
       "<table border=\"1\" class=\"dataframe\">\n",
       "  <thead>\n",
       "    <tr style=\"text-align: right;\">\n",
       "      <th></th>\n",
       "      <th>release_date</th>\n",
       "      <th>production_budget_x</th>\n",
       "      <th>worldwide_gross</th>\n",
       "      <th>roi</th>\n",
       "      <th>net_revenue</th>\n",
       "      <th>title_year</th>\n",
       "      <th>studio</th>\n",
       "      <th>studio_size</th>\n",
       "      <th>movie_budget_size</th>\n",
       "    </tr>\n",
       "  </thead>\n",
       "  <tbody>\n",
       "    <tr>\n",
       "      <th>0</th>\n",
       "      <td>2010-01-08</td>\n",
       "      <td>18000000</td>\n",
       "      <td>19685588</td>\n",
       "      <td>1.093644</td>\n",
       "      <td>1685588</td>\n",
       "      <td>Youth in Revolt 2010</td>\n",
       "      <td>W/Dim.</td>\n",
       "      <td>Large</td>\n",
       "      <td>Blockbuster</td>\n",
       "    </tr>\n",
       "    <tr>\n",
       "      <th>1</th>\n",
       "      <td>2010-08-20</td>\n",
       "      <td>24000000</td>\n",
       "      <td>83660160</td>\n",
       "      <td>3.485840</td>\n",
       "      <td>59660160</td>\n",
       "      <td>Piranha 3D 2010</td>\n",
       "      <td>W/Dim.</td>\n",
       "      <td>Large</td>\n",
       "      <td>Blockbuster</td>\n",
       "    </tr>\n",
       "    <tr>\n",
       "      <th>2</th>\n",
       "      <td>2011-04-15</td>\n",
       "      <td>40000000</td>\n",
       "      <td>95989590</td>\n",
       "      <td>2.399740</td>\n",
       "      <td>55989590</td>\n",
       "      <td>Scream 4 2011</td>\n",
       "      <td>W/Dim.</td>\n",
       "      <td>Large</td>\n",
       "      <td>Blockbuster</td>\n",
       "    </tr>\n",
       "    <tr>\n",
       "      <th>3</th>\n",
       "      <td>2011-08-19</td>\n",
       "      <td>27000000</td>\n",
       "      <td>80681183</td>\n",
       "      <td>2.988192</td>\n",
       "      <td>53681183</td>\n",
       "      <td>Spy Kids: All the Time in the World 2011</td>\n",
       "      <td>W/Dim.</td>\n",
       "      <td>Large</td>\n",
       "      <td>Blockbuster</td>\n",
       "    </tr>\n",
       "    <tr>\n",
       "      <th>4</th>\n",
       "      <td>2011-09-02</td>\n",
       "      <td>5000000</td>\n",
       "      <td>26517819</td>\n",
       "      <td>5.303564</td>\n",
       "      <td>21517819</td>\n",
       "      <td>Apollo 18 2011</td>\n",
       "      <td>W/Dim.</td>\n",
       "      <td>Large</td>\n",
       "      <td>Medium</td>\n",
       "    </tr>\n",
       "  </tbody>\n",
       "</table>\n",
       "</div>"
      ],
      "text/plain": [
       "  release_date  production_budget_x  worldwide_gross       roi  net_revenue  \\\n",
       "0   2010-01-08             18000000         19685588  1.093644      1685588   \n",
       "1   2010-08-20             24000000         83660160  3.485840     59660160   \n",
       "2   2011-04-15             40000000         95989590  2.399740     55989590   \n",
       "3   2011-08-19             27000000         80681183  2.988192     53681183   \n",
       "4   2011-09-02              5000000         26517819  5.303564     21517819   \n",
       "\n",
       "                                 title_year  studio studio_size  \\\n",
       "0                      Youth in Revolt 2010  W/Dim.       Large   \n",
       "1                           Piranha 3D 2010  W/Dim.       Large   \n",
       "2                             Scream 4 2011  W/Dim.       Large   \n",
       "3  Spy Kids: All the Time in the World 2011  W/Dim.       Large   \n",
       "4                            Apollo 18 2011  W/Dim.       Large   \n",
       "\n",
       "  movie_budget_size  \n",
       "0       Blockbuster  \n",
       "1       Blockbuster  \n",
       "2       Blockbuster  \n",
       "3       Blockbuster  \n",
       "4            Medium  "
      ]
     },
     "execution_count": 253,
     "metadata": {},
     "output_type": "execute_result"
    }
   ],
   "source": [
    "final_df.head()"
   ]
  },
  {
   "cell_type": "code",
   "execution_count": 254,
   "metadata": {},
   "outputs": [],
   "source": [
    "final_csv = final_df.to_csv('./data/final_df.csv')"
   ]
  },
  {
   "cell_type": "markdown",
   "metadata": {},
   "source": [
    "<a id='findings'></a>\n",
    "## Key Findings ##"
   ]
  },
  {
   "cell_type": "markdown",
   "metadata": {},
   "source": [
    "We explored several questions to better understand **which types of studios are associated with successful films.**"
   ]
  },
  {
   "cell_type": "code",
   "execution_count": 90,
   "metadata": {},
   "outputs": [],
   "source": [
    "# Change figures to USD millions \n",
    "final_df['production_budget_x'] = np.round(final_df['production_budget_x'].map(lambda x: x/1_000_000), 2)\n",
    "final_df['worldwide_gross'] = np.round(final_df['worldwide_gross'].map(lambda x: x/1_000_000), 2)\n",
    "final_df['net_revenue'] = np.round(final_df['net_revenue'].map(lambda x: x/1_000_000), 2)\n",
    "final_df['roi'] = np.round(final_df['roi'], 2)"
   ]
  },
  {
   "cell_type": "markdown",
   "metadata": {},
   "source": [
    "**Table 1: Film ROI Statistics By Studio Size**"
   ]
  },
  {
   "cell_type": "code",
   "execution_count": 91,
   "metadata": {},
   "outputs": [
    {
     "data": {
      "text/html": [
       "<div>\n",
       "<style scoped>\n",
       "    .dataframe tbody tr th:only-of-type {\n",
       "        vertical-align: middle;\n",
       "    }\n",
       "\n",
       "    .dataframe tbody tr th {\n",
       "        vertical-align: top;\n",
       "    }\n",
       "\n",
       "    .dataframe thead th {\n",
       "        text-align: right;\n",
       "    }\n",
       "</style>\n",
       "<table border=\"1\" class=\"dataframe\">\n",
       "  <thead>\n",
       "    <tr style=\"text-align: right;\">\n",
       "      <th></th>\n",
       "      <th>count</th>\n",
       "      <th>mean</th>\n",
       "      <th>std</th>\n",
       "      <th>min</th>\n",
       "      <th>25%</th>\n",
       "      <th>50%</th>\n",
       "      <th>75%</th>\n",
       "      <th>max</th>\n",
       "    </tr>\n",
       "    <tr>\n",
       "      <th>studio_size</th>\n",
       "      <th></th>\n",
       "      <th></th>\n",
       "      <th></th>\n",
       "      <th></th>\n",
       "      <th></th>\n",
       "      <th></th>\n",
       "      <th></th>\n",
       "      <th></th>\n",
       "    </tr>\n",
       "  </thead>\n",
       "  <tbody>\n",
       "    <tr>\n",
       "      <th>Large</th>\n",
       "      <td>1085.0</td>\n",
       "      <td>4.665825</td>\n",
       "      <td>14.240693</td>\n",
       "      <td>0.00</td>\n",
       "      <td>1.39</td>\n",
       "      <td>2.62</td>\n",
       "      <td>4.5100</td>\n",
       "      <td>416.56</td>\n",
       "    </tr>\n",
       "    <tr>\n",
       "      <th>Medium</th>\n",
       "      <td>97.0</td>\n",
       "      <td>2.555876</td>\n",
       "      <td>4.369614</td>\n",
       "      <td>0.01</td>\n",
       "      <td>0.43</td>\n",
       "      <td>1.00</td>\n",
       "      <td>2.6200</td>\n",
       "      <td>31.02</td>\n",
       "    </tr>\n",
       "    <tr>\n",
       "      <th>Small</th>\n",
       "      <td>32.0</td>\n",
       "      <td>1.605625</td>\n",
       "      <td>2.086806</td>\n",
       "      <td>0.01</td>\n",
       "      <td>0.24</td>\n",
       "      <td>0.79</td>\n",
       "      <td>2.4575</td>\n",
       "      <td>9.54</td>\n",
       "    </tr>\n",
       "  </tbody>\n",
       "</table>\n",
       "</div>"
      ],
      "text/plain": [
       "              count      mean        std   min   25%   50%     75%     max\n",
       "studio_size                                                               \n",
       "Large        1085.0  4.665825  14.240693  0.00  1.39  2.62  4.5100  416.56\n",
       "Medium         97.0  2.555876   4.369614  0.01  0.43  1.00  2.6200   31.02\n",
       "Small          32.0  1.605625   2.086806  0.01  0.24  0.79  2.4575    9.54"
      ]
     },
     "execution_count": 91,
     "metadata": {},
     "output_type": "execute_result"
    }
   ],
   "source": [
    "final_df.groupby('studio_size')['roi'].describe()"
   ]
  },
  {
   "cell_type": "markdown",
   "metadata": {},
   "source": [
    "From Table 1, we see large studios have produced 89% of the films in our dataset. The distributions of film ROI values for all categories of studios is positively skewed, with large outliers in particular for large studios. Large studios have the highest median ROI at 2.62, followed by medium studios at 1 and small studios at 0.79. "
   ]
  },
  {
   "cell_type": "markdown",
   "metadata": {},
   "source": [
    "**Table 2: Average ROI and Average Production Budget for Films Released over 2010-2018, by Studio**"
   ]
  },
  {
   "cell_type": "code",
   "execution_count": 93,
   "metadata": {},
   "outputs": [
    {
     "data": {
      "text/html": [
       "<div>\n",
       "<style scoped>\n",
       "    .dataframe tbody tr th:only-of-type {\n",
       "        vertical-align: middle;\n",
       "    }\n",
       "\n",
       "    .dataframe tbody tr th {\n",
       "        vertical-align: top;\n",
       "    }\n",
       "\n",
       "    .dataframe thead th {\n",
       "        text-align: right;\n",
       "    }\n",
       "</style>\n",
       "<table border=\"1\" class=\"dataframe\">\n",
       "  <thead>\n",
       "    <tr style=\"text-align: right;\">\n",
       "      <th></th>\n",
       "      <th></th>\n",
       "      <th>production_budget_x</th>\n",
       "      <th>roi</th>\n",
       "    </tr>\n",
       "    <tr>\n",
       "      <th>studio</th>\n",
       "      <th>studio_size</th>\n",
       "      <th></th>\n",
       "      <th></th>\n",
       "    </tr>\n",
       "  </thead>\n",
       "  <tbody>\n",
       "    <tr>\n",
       "      <th>WB (NL)</th>\n",
       "      <th>Large</th>\n",
       "      <td>58.070270</td>\n",
       "      <td>17.495405</td>\n",
       "    </tr>\n",
       "    <tr>\n",
       "      <th>FD</th>\n",
       "      <th>Large</th>\n",
       "      <td>25.805556</td>\n",
       "      <td>12.568889</td>\n",
       "    </tr>\n",
       "    <tr>\n",
       "      <th>UTV</th>\n",
       "      <th>Medium</th>\n",
       "      <td>7.133333</td>\n",
       "      <td>12.173333</td>\n",
       "    </tr>\n",
       "    <tr>\n",
       "      <th>Orch.</th>\n",
       "      <th>Small</th>\n",
       "      <td>2.500000</td>\n",
       "      <td>9.540000</td>\n",
       "    </tr>\n",
       "    <tr>\n",
       "      <th>GrtIndia</th>\n",
       "      <th>Medium</th>\n",
       "      <td>30.000000</td>\n",
       "      <td>8.780000</td>\n",
       "    </tr>\n",
       "    <tr>\n",
       "      <th>BH Tilt</th>\n",
       "      <th>Medium</th>\n",
       "      <td>2.800000</td>\n",
       "      <td>7.894000</td>\n",
       "    </tr>\n",
       "    <tr>\n",
       "      <th>Uni.</th>\n",
       "      <th>Large</th>\n",
       "      <td>56.293043</td>\n",
       "      <td>6.886174</td>\n",
       "    </tr>\n",
       "    <tr>\n",
       "      <th>Par.</th>\n",
       "      <th>Large</th>\n",
       "      <td>65.930556</td>\n",
       "      <td>6.856806</td>\n",
       "    </tr>\n",
       "    <tr>\n",
       "      <th>TriS</th>\n",
       "      <th>Large</th>\n",
       "      <td>27.488889</td>\n",
       "      <td>5.917222</td>\n",
       "    </tr>\n",
       "    <tr>\n",
       "      <th>MBox</th>\n",
       "      <th>Small</th>\n",
       "      <td>2.600000</td>\n",
       "      <td>5.880000</td>\n",
       "    </tr>\n",
       "    <tr>\n",
       "      <th>ParV</th>\n",
       "      <th>Medium</th>\n",
       "      <td>12.416667</td>\n",
       "      <td>5.483333</td>\n",
       "    </tr>\n",
       "    <tr>\n",
       "      <th>Eros</th>\n",
       "      <th>Medium</th>\n",
       "      <td>9.250000</td>\n",
       "      <td>4.990000</td>\n",
       "    </tr>\n",
       "    <tr>\n",
       "      <th>Neon</th>\n",
       "      <th>Medium</th>\n",
       "      <td>11.000000</td>\n",
       "      <td>4.890000</td>\n",
       "    </tr>\n",
       "    <tr>\n",
       "      <th>Wein.</th>\n",
       "      <th>Large</th>\n",
       "      <td>20.600000</td>\n",
       "      <td>4.591500</td>\n",
       "    </tr>\n",
       "    <tr>\n",
       "      <th>LGF</th>\n",
       "      <th>Large</th>\n",
       "      <td>33.924426</td>\n",
       "      <td>4.547705</td>\n",
       "    </tr>\n",
       "  </tbody>\n",
       "</table>\n",
       "</div>"
      ],
      "text/plain": [
       "                      production_budget_x        roi\n",
       "studio   studio_size                                \n",
       "WB (NL)  Large                  58.070270  17.495405\n",
       "FD       Large                  25.805556  12.568889\n",
       "UTV      Medium                  7.133333  12.173333\n",
       "Orch.    Small                   2.500000   9.540000\n",
       "GrtIndia Medium                 30.000000   8.780000\n",
       "BH Tilt  Medium                  2.800000   7.894000\n",
       "Uni.     Large                  56.293043   6.886174\n",
       "Par.     Large                  65.930556   6.856806\n",
       "TriS     Large                  27.488889   5.917222\n",
       "MBox     Small                   2.600000   5.880000\n",
       "ParV     Medium                 12.416667   5.483333\n",
       "Eros     Medium                  9.250000   4.990000\n",
       "Neon     Medium                 11.000000   4.890000\n",
       "Wein.    Large                  20.600000   4.591500\n",
       "LGF      Large                  33.924426   4.547705"
      ]
     },
     "execution_count": 93,
     "metadata": {},
     "output_type": "execute_result"
    }
   ],
   "source": [
    "final_df.pivot_table(values = ['roi', 'production_budget_x'], index = ['studio', 'studio_size']).sort_values(by = 'roi', ascending = False)[0:15]"
   ]
  },
  {
   "cell_type": "markdown",
   "metadata": {},
   "source": [
    "This table shows the studios with the top highest average ROI for their films in our dataset. It is notable that there are a mix of studio sizes, and that net revenue figures vary widely. "
   ]
  },
  {
   "cell_type": "markdown",
   "metadata": {},
   "source": [
    "**Table 3: ROI, Net Revenue and Production Budget of Top 15 Films**"
   ]
  },
  {
   "cell_type": "code",
   "execution_count": 43,
   "metadata": {},
   "outputs": [
    {
     "ename": "NameError",
     "evalue": "name 'final_df' is not defined",
     "output_type": "error",
     "traceback": [
      "\u001b[1;31m---------------------------------------------------------------------------\u001b[0m",
      "\u001b[1;31mNameError\u001b[0m                                 Traceback (most recent call last)",
      "\u001b[1;32m<ipython-input-43-35b9f65b4a99>\u001b[0m in \u001b[0;36m<module>\u001b[1;34m\u001b[0m\n\u001b[1;32m----> 1\u001b[1;33m \u001b[0mfinal_df\u001b[0m\u001b[1;33m.\u001b[0m\u001b[0mpivot_table\u001b[0m\u001b[1;33m(\u001b[0m\u001b[0mvalues\u001b[0m \u001b[1;33m=\u001b[0m \u001b[1;33m[\u001b[0m\u001b[1;34m'roi'\u001b[0m\u001b[1;33m,\u001b[0m \u001b[1;34m'production_budget_x'\u001b[0m\u001b[1;33m]\u001b[0m\u001b[1;33m,\u001b[0m \u001b[0mindex\u001b[0m \u001b[1;33m=\u001b[0m \u001b[1;34m'title_year'\u001b[0m\u001b[1;33m)\u001b[0m\u001b[1;33m.\u001b[0m\u001b[0msort_values\u001b[0m\u001b[1;33m(\u001b[0m\u001b[0mby\u001b[0m \u001b[1;33m=\u001b[0m \u001b[1;34m'roi'\u001b[0m\u001b[1;33m,\u001b[0m \u001b[0mascending\u001b[0m \u001b[1;33m=\u001b[0m \u001b[1;32mFalse\u001b[0m\u001b[1;33m)\u001b[0m\u001b[1;33m[\u001b[0m\u001b[1;36m0\u001b[0m\u001b[1;33m:\u001b[0m\u001b[1;36m15\u001b[0m\u001b[1;33m]\u001b[0m\u001b[1;33m\u001b[0m\u001b[1;33m\u001b[0m\u001b[0m\n\u001b[0m",
      "\u001b[1;31mNameError\u001b[0m: name 'final_df' is not defined"
     ]
    }
   ],
   "source": [
    "final_df.pivot_table(values = ['roi', 'production_budget_x'], index = 'title_year').sort_values(by = 'roi', ascending = False)[0:15]"
   ]
  },
  {
   "cell_type": "markdown",
   "metadata": {},
   "source": [
    "Table 3 shows the fifteen films that were most successful according to our ROI metric. The median production budget for the entire dataset is 27 USD million, and budgets range from 500,000 to 410.6 million. We can see the top films have relatively small production budgets, all less than 10 million--smaller than the median and average. "
   ]
  },
  {
   "cell_type": "code",
   "execution_count": 59,
   "metadata": {},
   "outputs": [
    {
     "data": {
      "text/plain": [
       "count    1214.000000\n",
       "mean       47.649646\n",
       "std        56.367633\n",
       "min         0.050000\n",
       "25%        10.000000\n",
       "50%        27.000000\n",
       "75%        60.000000\n",
       "max       410.600000\n",
       "Name: production_budget_x, dtype: float64"
      ]
     },
     "execution_count": 59,
     "metadata": {},
     "output_type": "execute_result"
    }
   ],
   "source": [
    "final_df['production_budget_x'].describe()"
   ]
  },
  {
   "cell_type": "code",
   "execution_count": null,
   "metadata": {},
   "outputs": [],
   "source": []
  },
  {
   "cell_type": "code",
   "execution_count": null,
   "metadata": {},
   "outputs": [],
   "source": []
  },
  {
   "cell_type": "markdown",
   "metadata": {},
   "source": [
    "<a id='conclusions'></a>\n",
    "## Conclusions and Recommendations ##"
   ]
  },
  {
   "cell_type": "markdown",
   "metadata": {},
   "source": [
    "<a id = 'next'></a>\n",
    "## Next Steps\n",
    " - More accurate data on production budgets / studio size\n",
    "\n",
    " - Genres\n",
    " - Production budget range \n",
    " - Popularity (some kind of metric) / review ratings\n",
    " - Independent or major studio\n",
    "     - Range of ROI\n",
    " - How do sequels perform in comparison to originals?\n",
    " - Season of release\n",
    " - Actors ? \n",
    " - idea - create subset of 0s for second analysis on what not to do. (only if time!)\n"
   ]
  },
  {
   "cell_type": "code",
   "execution_count": null,
   "metadata": {},
   "outputs": [],
   "source": []
  },
  {
   "cell_type": "code",
   "execution_count": null,
   "metadata": {},
   "outputs": [],
   "source": []
  },
  {
   "cell_type": "code",
   "execution_count": null,
   "metadata": {},
   "outputs": [],
   "source": []
  },
  {
   "cell_type": "code",
   "execution_count": null,
   "metadata": {},
   "outputs": [],
   "source": []
  },
  {
   "cell_type": "code",
   "execution_count": null,
   "metadata": {},
   "outputs": [],
   "source": []
  },
  {
   "cell_type": "code",
   "execution_count": null,
   "metadata": {},
   "outputs": [],
   "source": []
  },
  {
   "cell_type": "code",
   "execution_count": null,
   "metadata": {},
   "outputs": [],
   "source": []
  },
  {
   "cell_type": "code",
   "execution_count": null,
   "metadata": {},
   "outputs": [],
   "source": []
  },
  {
   "cell_type": "code",
   "execution_count": null,
   "metadata": {},
   "outputs": [],
   "source": []
  },
  {
   "cell_type": "code",
   "execution_count": null,
   "metadata": {},
   "outputs": [],
   "source": []
  },
  {
   "cell_type": "code",
   "execution_count": null,
   "metadata": {},
   "outputs": [],
   "source": []
  },
  {
   "cell_type": "code",
   "execution_count": null,
   "metadata": {},
   "outputs": [],
   "source": []
  },
  {
   "cell_type": "code",
   "execution_count": null,
   "metadata": {},
   "outputs": [],
   "source": []
  },
  {
   "cell_type": "code",
   "execution_count": null,
   "metadata": {},
   "outputs": [],
   "source": []
  },
  {
   "cell_type": "code",
   "execution_count": null,
   "metadata": {},
   "outputs": [],
   "source": []
  },
  {
   "cell_type": "code",
   "execution_count": null,
   "metadata": {},
   "outputs": [],
   "source": []
  }
 ],
 "metadata": {
  "kernelspec": {
   "display_name": "Python 3",
   "language": "python",
   "name": "python3"
  },
  "language_info": {
   "codemirror_mode": {
    "name": "ipython",
    "version": 3
   },
   "file_extension": ".py",
   "mimetype": "text/x-python",
   "name": "python",
   "nbconvert_exporter": "python",
   "pygments_lexer": "ipython3",
   "version": "3.6.8"
  }
 },
 "nbformat": 4,
 "nbformat_minor": 2
}
